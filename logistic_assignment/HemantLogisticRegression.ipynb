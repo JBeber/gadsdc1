{
 "metadata": {
  "name": ""
 },
 "nbformat": 3,
 "nbformat_minor": 0,
 "worksheets": [
  {
   "cells": [
    {
     "cell_type": "markdown",
     "metadata": {},
     "source": [
      "Problem: \n",
      "    Predict if the mortgage loan is going to be delinquent in future.\n",
      "Data: \n",
      "    Fannie Mae and Freddie Mac released the loan level dataset for 30 year fixed rate begining 2000.\n",
      "    http://www.fanniemae.com/portal/funding-the-market/data/loan-performance-data.html\n",
      "    http://www.freddiemac.com/news/finance/sf_loanlevel_dataset.html\n",
      "    \n",
      "    For this exercise:\n",
      "    1. I selected loans acquired by Fannie Mae in first quarter of Year 2000. There are total of 199641 loans(Dataset - A)\n",
      "    2. For the loans selected in step 1 above, I got the latest servicing data during first quarter of year 2000(Dataset - B)\n",
      "       There were 6714186 servicing records for this data set.\n",
      "    3. Combined dataset A and B to create combined data.\n",
      "        a. Acq_Perf_train.txt - 199000 record count\n",
      "        b. Acq_Perf_test.txt -  641 record count\n",
      "    \n",
      "    Most of the steps above were done using HP Vertica. First downloading data set, creating tables, uploading data, making a join and then exporting out for analysis.\n",
      "    \n",
      "    There are 33 features in this dataset, in this case I used following five features for training.\n",
      "        a. originalInterestRate (index = 3)\n",
      "        b. originalUnpaidPrincipalBalance (index = 4)\n",
      "        c. originalLoanTerm (index = 5)\n",
      "        d. numberOfUnits (index = 16)\n",
      "        e. zipThreeDigit (index = 19)\n",
      "        \n",
      "    Target feature is zeroBalanceCode(index = 33). If the code is 97, that means loan will be delinquent at some point.\n",
      "    \n",
      "Solution:\n",
      "    Use logistic regression to predict.\n",
      "\n"
     ]
    },
    {
     "cell_type": "heading",
     "level": 3,
     "metadata": {},
     "source": [
      "So Let us import the data."
     ]
    },
    {
     "cell_type": "code",
     "collapsed": false,
     "input": [
      "import pandas as pd\n",
      "train =  pd.read_csv('../../../Downloads/LoanLevelDataSet/FannieMae/Acq_Perf_train.txt', delimiter='|', na_values=[''],parse_dates=[\"originationDate\",\"firstPaymentDate\",\"maturityDate\",\"zeroBalanceEffectiveDate\"])\n",
      "test =  pd.read_csv('../../../Downloads/LoanLevelDataSet/FannieMae/Acq_Perf_test.txt', delimiter='|', na_values=[''],parse_dates=[\"originationDate\",\"firstPaymentDate\",\"maturityDate\",\"zeroBalanceEffectiveDate\"])\n"
     ],
     "language": "python",
     "metadata": {},
     "outputs": [],
     "prompt_number": 9
    },
    {
     "cell_type": "heading",
     "level": 3,
     "metadata": {},
     "source": [
      "Create the model"
     ]
    },
    {
     "cell_type": "code",
     "collapsed": false,
     "input": [
      "from sklearn.linear_model import LogisticRegression\n",
      "clf_l1_LR = LogisticRegression(C=10, penalty='l1', tol=0.01)\n",
      "\n",
      "X_train=train[[3,4,5,16,19]]\n",
      "y=train[[33]]"
     ],
     "language": "python",
     "metadata": {},
     "outputs": [],
     "prompt_number": 10
    },
    {
     "cell_type": "heading",
     "level": 3,
     "metadata": {},
     "source": [
      "Covert target variable to 0 or 1 based on the value of zeroBalanceCode==97"
     ]
    },
    {
     "cell_type": "code",
     "collapsed": false,
     "input": [
      "import numpy as np\n",
      "\n",
      "y = (y == 97).astype(np.int)"
     ],
     "language": "python",
     "metadata": {},
     "outputs": [],
     "prompt_number": 11
    },
    {
     "cell_type": "heading",
     "level": 3,
     "metadata": {},
     "source": [
      "Now fit the model"
     ]
    },
    {
     "cell_type": "code",
     "collapsed": false,
     "input": [
      "clf_l1_LR.fit(X_train,np.ravel(y))"
     ],
     "language": "python",
     "metadata": {},
     "outputs": [
      {
       "metadata": {},
       "output_type": "pyout",
       "prompt_number": 12,
       "text": [
        "LogisticRegression(C=10, class_weight=None, dual=False, fit_intercept=True,\n",
        "          intercept_scaling=1, penalty='l1', random_state=None, tol=0.01)"
       ]
      }
     ],
     "prompt_number": 12
    },
    {
     "cell_type": "heading",
     "level": 3,
     "metadata": {},
     "source": [
      "Let's score the model:"
     ]
    },
    {
     "cell_type": "code",
     "collapsed": false,
     "input": [
      "clf_l1_LR.score(X_train,np.ravel(y))"
     ],
     "language": "python",
     "metadata": {},
     "outputs": [
      {
       "metadata": {},
       "output_type": "pyout",
       "prompt_number": 13,
       "text": [
        "0.9762762626947874"
       ]
      }
     ],
     "prompt_number": 13
    },
    {
     "cell_type": "heading",
     "level": 3,
     "metadata": {},
     "source": [
      "Let's do the predictions:"
     ]
    },
    {
     "cell_type": "code",
     "collapsed": false,
     "input": [
      "X_test = test[[3,4,5, 16,19]]\n",
      "predictions = clf_l1_LR.predict(X_test)"
     ],
     "language": "python",
     "metadata": {},
     "outputs": [],
     "prompt_number": 14
    },
    {
     "cell_type": "heading",
     "level": 6,
     "metadata": {},
     "source": [
      "Let's see how we did on the predictions:\n",
      "Get the actual zeroBalanceCode, and get accuracy score compare to predictions."
     ]
    },
    {
     "cell_type": "code",
     "collapsed": false,
     "input": [
      "yy=test[[33]]\n",
      "yy = (yy == 97).astype(np.int)"
     ],
     "language": "python",
     "metadata": {},
     "outputs": [],
     "prompt_number": 15
    },
    {
     "cell_type": "code",
     "collapsed": false,
     "input": [
      "from sklearn import metrics\n",
      "print metrics.accuracy_score(yy, predictions)"
     ],
     "language": "python",
     "metadata": {},
     "outputs": [
      {
       "output_type": "stream",
       "stream": "stdout",
       "text": [
        "0.976152623211\n"
       ]
      }
     ],
     "prompt_number": 16
    },
    {
     "cell_type": "heading",
     "level": 3,
     "metadata": {},
     "source": [
      "Get the probabilities on X_test"
     ]
    },
    {
     "cell_type": "code",
     "collapsed": false,
     "input": [
      "predictionsp = clf_l1_LR.predict_proba(X_test)"
     ],
     "language": "python",
     "metadata": {},
     "outputs": [],
     "prompt_number": 9
    },
    {
     "cell_type": "code",
     "collapsed": false,
     "input": [
      "print predictionsp"
     ],
     "language": "python",
     "metadata": {},
     "outputs": [
      {
       "output_type": "stream",
       "stream": "stdout",
       "text": [
        "[[ 0.94743822  0.05256178]\n",
        " [ 0.97779867  0.02220133]\n",
        " [ 0.96692329  0.03307671]\n",
        " ..., \n",
        " [ 0.98860134  0.01139866]\n",
        " [ 0.95441081  0.04558919]\n",
        " [ 0.9556525   0.0443475 ]]\n"
       ]
      }
     ],
     "prompt_number": 10
    },
    {
     "cell_type": "heading",
     "level": 3,
     "metadata": {},
     "source": [
      "How about looking at some data underneath"
     ]
    },
    {
     "cell_type": "code",
     "collapsed": false,
     "input": [
      "X_test.tail(10)"
     ],
     "language": "python",
     "metadata": {},
     "outputs": [
      {
       "html": [
        "<div style=\"max-height:1000px;max-width:1500px;overflow:auto;\">\n",
        "<table border=\"1\" class=\"dataframe\">\n",
        "  <thead>\n",
        "    <tr style=\"text-align: right;\">\n",
        "      <th></th>\n",
        "      <th>originalInterestRate</th>\n",
        "      <th>originalUnpaidPrincipalBalance</th>\n",
        "      <th>originalLoanTerm</th>\n",
        "      <th>numberOfUnits</th>\n",
        "      <th>zipThreeDigit</th>\n",
        "    </tr>\n",
        "  </thead>\n",
        "  <tbody>\n",
        "    <tr>\n",
        "      <th>619</th>\n",
        "      <td> 7.875</td>\n",
        "      <td> 216000</td>\n",
        "      <td> 360</td>\n",
        "      <td> 1</td>\n",
        "      <td> 902</td>\n",
        "    </tr>\n",
        "    <tr>\n",
        "      <th>620</th>\n",
        "      <td> 7.875</td>\n",
        "      <td> 124000</td>\n",
        "      <td> 360</td>\n",
        "      <td> 1</td>\n",
        "      <td> 334</td>\n",
        "    </tr>\n",
        "    <tr>\n",
        "      <th>621</th>\n",
        "      <td> 7.875</td>\n",
        "      <td> 110000</td>\n",
        "      <td> 360</td>\n",
        "      <td> 1</td>\n",
        "      <td> 440</td>\n",
        "    </tr>\n",
        "    <tr>\n",
        "      <th>622</th>\n",
        "      <td> 7.750</td>\n",
        "      <td> 147000</td>\n",
        "      <td> 360</td>\n",
        "      <td> 1</td>\n",
        "      <td> 800</td>\n",
        "    </tr>\n",
        "    <tr>\n",
        "      <th>623</th>\n",
        "      <td> 8.500</td>\n",
        "      <td> 154000</td>\n",
        "      <td> 360</td>\n",
        "      <td> 1</td>\n",
        "      <td> 554</td>\n",
        "    </tr>\n",
        "    <tr>\n",
        "      <th>624</th>\n",
        "      <td> 8.000</td>\n",
        "      <td> 253000</td>\n",
        "      <td> 360</td>\n",
        "      <td> 1</td>\n",
        "      <td> 606</td>\n",
        "    </tr>\n",
        "    <tr>\n",
        "      <th>625</th>\n",
        "      <td> 7.875</td>\n",
        "      <td>  93000</td>\n",
        "      <td> 360</td>\n",
        "      <td> 1</td>\n",
        "      <td> 760</td>\n",
        "    </tr>\n",
        "    <tr>\n",
        "      <th>626</th>\n",
        "      <td> 7.875</td>\n",
        "      <td> 184000</td>\n",
        "      <td> 360</td>\n",
        "      <td> 1</td>\n",
        "      <td> 378</td>\n",
        "    </tr>\n",
        "    <tr>\n",
        "      <th>627</th>\n",
        "      <td> 7.375</td>\n",
        "      <td>  60000</td>\n",
        "      <td> 360</td>\n",
        "      <td> 1</td>\n",
        "      <td> 300</td>\n",
        "    </tr>\n",
        "    <tr>\n",
        "      <th>628</th>\n",
        "      <td> 8.625</td>\n",
        "      <td>  50000</td>\n",
        "      <td> 360</td>\n",
        "      <td> 2</td>\n",
        "      <td> 114</td>\n",
        "    </tr>\n",
        "  </tbody>\n",
        "</table>\n",
        "<p>10 rows \u00d7 5 columns</p>\n",
        "</div>"
       ],
       "metadata": {},
       "output_type": "pyout",
       "prompt_number": 17,
       "text": [
        "     originalInterestRate  originalUnpaidPrincipalBalance  originalLoanTerm  \\\n",
        "619                 7.875                          216000               360   \n",
        "620                 7.875                          124000               360   \n",
        "621                 7.875                          110000               360   \n",
        "622                 7.750                          147000               360   \n",
        "623                 8.500                          154000               360   \n",
        "624                 8.000                          253000               360   \n",
        "625                 7.875                           93000               360   \n",
        "626                 7.875                          184000               360   \n",
        "627                 7.375                           60000               360   \n",
        "628                 8.625                           50000               360   \n",
        "\n",
        "     numberOfUnits  zipThreeDigit  \n",
        "619              1            902  \n",
        "620              1            334  \n",
        "621              1            440  \n",
        "622              1            800  \n",
        "623              1            554  \n",
        "624              1            606  \n",
        "625              1            760  \n",
        "626              1            378  \n",
        "627              1            300  \n",
        "628              2            114  \n",
        "\n",
        "[10 rows x 5 columns]"
       ]
      }
     ],
     "prompt_number": 17
    },
    {
     "cell_type": "code",
     "collapsed": false,
     "input": [
      "yy"
     ],
     "language": "python",
     "metadata": {},
     "outputs": [
      {
       "html": [
        "<div style=\"max-height:1000px;max-width:1500px;overflow:auto;\">\n",
        "<table border=\"1\" class=\"dataframe\">\n",
        "  <thead>\n",
        "    <tr style=\"text-align: right;\">\n",
        "      <th></th>\n",
        "      <th>zeroBalanceCode</th>\n",
        "    </tr>\n",
        "  </thead>\n",
        "  <tbody>\n",
        "    <tr>\n",
        "      <th>0 </th>\n",
        "      <td> 0</td>\n",
        "    </tr>\n",
        "    <tr>\n",
        "      <th>1 </th>\n",
        "      <td> 0</td>\n",
        "    </tr>\n",
        "    <tr>\n",
        "      <th>2 </th>\n",
        "      <td> 0</td>\n",
        "    </tr>\n",
        "    <tr>\n",
        "      <th>3 </th>\n",
        "      <td> 0</td>\n",
        "    </tr>\n",
        "    <tr>\n",
        "      <th>4 </th>\n",
        "      <td> 0</td>\n",
        "    </tr>\n",
        "    <tr>\n",
        "      <th>5 </th>\n",
        "      <td> 0</td>\n",
        "    </tr>\n",
        "    <tr>\n",
        "      <th>6 </th>\n",
        "      <td> 0</td>\n",
        "    </tr>\n",
        "    <tr>\n",
        "      <th>7 </th>\n",
        "      <td> 0</td>\n",
        "    </tr>\n",
        "    <tr>\n",
        "      <th>8 </th>\n",
        "      <td> 0</td>\n",
        "    </tr>\n",
        "    <tr>\n",
        "      <th>9 </th>\n",
        "      <td> 0</td>\n",
        "    </tr>\n",
        "    <tr>\n",
        "      <th>10</th>\n",
        "      <td> 0</td>\n",
        "    </tr>\n",
        "    <tr>\n",
        "      <th>11</th>\n",
        "      <td> 0</td>\n",
        "    </tr>\n",
        "    <tr>\n",
        "      <th>12</th>\n",
        "      <td> 0</td>\n",
        "    </tr>\n",
        "    <tr>\n",
        "      <th>13</th>\n",
        "      <td> 0</td>\n",
        "    </tr>\n",
        "    <tr>\n",
        "      <th>14</th>\n",
        "      <td> 0</td>\n",
        "    </tr>\n",
        "    <tr>\n",
        "      <th>15</th>\n",
        "      <td> 0</td>\n",
        "    </tr>\n",
        "    <tr>\n",
        "      <th>16</th>\n",
        "      <td> 0</td>\n",
        "    </tr>\n",
        "    <tr>\n",
        "      <th>17</th>\n",
        "      <td> 0</td>\n",
        "    </tr>\n",
        "    <tr>\n",
        "      <th>18</th>\n",
        "      <td> 0</td>\n",
        "    </tr>\n",
        "    <tr>\n",
        "      <th>19</th>\n",
        "      <td> 0</td>\n",
        "    </tr>\n",
        "    <tr>\n",
        "      <th>20</th>\n",
        "      <td> 0</td>\n",
        "    </tr>\n",
        "    <tr>\n",
        "      <th>21</th>\n",
        "      <td> 0</td>\n",
        "    </tr>\n",
        "    <tr>\n",
        "      <th>22</th>\n",
        "      <td> 0</td>\n",
        "    </tr>\n",
        "    <tr>\n",
        "      <th>23</th>\n",
        "      <td> 0</td>\n",
        "    </tr>\n",
        "    <tr>\n",
        "      <th>24</th>\n",
        "      <td> 0</td>\n",
        "    </tr>\n",
        "    <tr>\n",
        "      <th>25</th>\n",
        "      <td> 0</td>\n",
        "    </tr>\n",
        "    <tr>\n",
        "      <th>26</th>\n",
        "      <td> 0</td>\n",
        "    </tr>\n",
        "    <tr>\n",
        "      <th>27</th>\n",
        "      <td> 0</td>\n",
        "    </tr>\n",
        "    <tr>\n",
        "      <th>28</th>\n",
        "      <td> 0</td>\n",
        "    </tr>\n",
        "    <tr>\n",
        "      <th>29</th>\n",
        "      <td> 0</td>\n",
        "    </tr>\n",
        "    <tr>\n",
        "      <th>30</th>\n",
        "      <td> 0</td>\n",
        "    </tr>\n",
        "    <tr>\n",
        "      <th>31</th>\n",
        "      <td> 0</td>\n",
        "    </tr>\n",
        "    <tr>\n",
        "      <th>32</th>\n",
        "      <td> 0</td>\n",
        "    </tr>\n",
        "    <tr>\n",
        "      <th>33</th>\n",
        "      <td> 0</td>\n",
        "    </tr>\n",
        "    <tr>\n",
        "      <th>34</th>\n",
        "      <td> 1</td>\n",
        "    </tr>\n",
        "    <tr>\n",
        "      <th>35</th>\n",
        "      <td> 0</td>\n",
        "    </tr>\n",
        "    <tr>\n",
        "      <th>36</th>\n",
        "      <td> 0</td>\n",
        "    </tr>\n",
        "    <tr>\n",
        "      <th>37</th>\n",
        "      <td> 0</td>\n",
        "    </tr>\n",
        "    <tr>\n",
        "      <th>38</th>\n",
        "      <td> 0</td>\n",
        "    </tr>\n",
        "    <tr>\n",
        "      <th>39</th>\n",
        "      <td> 1</td>\n",
        "    </tr>\n",
        "    <tr>\n",
        "      <th>40</th>\n",
        "      <td> 0</td>\n",
        "    </tr>\n",
        "    <tr>\n",
        "      <th>41</th>\n",
        "      <td> 0</td>\n",
        "    </tr>\n",
        "    <tr>\n",
        "      <th>42</th>\n",
        "      <td> 0</td>\n",
        "    </tr>\n",
        "    <tr>\n",
        "      <th>43</th>\n",
        "      <td> 0</td>\n",
        "    </tr>\n",
        "    <tr>\n",
        "      <th>44</th>\n",
        "      <td> 0</td>\n",
        "    </tr>\n",
        "    <tr>\n",
        "      <th>45</th>\n",
        "      <td> 0</td>\n",
        "    </tr>\n",
        "    <tr>\n",
        "      <th>46</th>\n",
        "      <td> 0</td>\n",
        "    </tr>\n",
        "    <tr>\n",
        "      <th>47</th>\n",
        "      <td> 0</td>\n",
        "    </tr>\n",
        "    <tr>\n",
        "      <th>48</th>\n",
        "      <td> 0</td>\n",
        "    </tr>\n",
        "    <tr>\n",
        "      <th>49</th>\n",
        "      <td> 0</td>\n",
        "    </tr>\n",
        "    <tr>\n",
        "      <th>50</th>\n",
        "      <td> 0</td>\n",
        "    </tr>\n",
        "    <tr>\n",
        "      <th>51</th>\n",
        "      <td> 0</td>\n",
        "    </tr>\n",
        "    <tr>\n",
        "      <th>52</th>\n",
        "      <td> 0</td>\n",
        "    </tr>\n",
        "    <tr>\n",
        "      <th>53</th>\n",
        "      <td> 0</td>\n",
        "    </tr>\n",
        "    <tr>\n",
        "      <th>54</th>\n",
        "      <td> 0</td>\n",
        "    </tr>\n",
        "    <tr>\n",
        "      <th>55</th>\n",
        "      <td> 0</td>\n",
        "    </tr>\n",
        "    <tr>\n",
        "      <th>56</th>\n",
        "      <td> 0</td>\n",
        "    </tr>\n",
        "    <tr>\n",
        "      <th>57</th>\n",
        "      <td> 0</td>\n",
        "    </tr>\n",
        "    <tr>\n",
        "      <th>58</th>\n",
        "      <td> 0</td>\n",
        "    </tr>\n",
        "    <tr>\n",
        "      <th>59</th>\n",
        "      <td> 0</td>\n",
        "    </tr>\n",
        "    <tr>\n",
        "      <th></th>\n",
        "      <td>...</td>\n",
        "    </tr>\n",
        "  </tbody>\n",
        "</table>\n",
        "<p>629 rows \u00d7 1 columns</p>\n",
        "</div>"
       ],
       "metadata": {},
       "output_type": "pyout",
       "prompt_number": 21,
       "text": [
        "    zeroBalanceCode\n",
        "0                 0\n",
        "1                 0\n",
        "2                 0\n",
        "3                 0\n",
        "4                 0\n",
        "5                 0\n",
        "6                 0\n",
        "7                 0\n",
        "8                 0\n",
        "9                 0\n",
        "10                0\n",
        "11                0\n",
        "12                0\n",
        "13                0\n",
        "14                0\n",
        "15                0\n",
        "16                0\n",
        "17                0\n",
        "18                0\n",
        "19                0\n",
        "20                0\n",
        "21                0\n",
        "22                0\n",
        "23                0\n",
        "24                0\n",
        "25                0\n",
        "26                0\n",
        "27                0\n",
        "28                0\n",
        "29                0\n",
        "30                0\n",
        "31                0\n",
        "32                0\n",
        "33                0\n",
        "34                1\n",
        "35                0\n",
        "36                0\n",
        "37                0\n",
        "38                0\n",
        "39                1\n",
        "40                0\n",
        "41                0\n",
        "42                0\n",
        "43                0\n",
        "44                0\n",
        "45                0\n",
        "46                0\n",
        "47                0\n",
        "48                0\n",
        "49                0\n",
        "50                0\n",
        "51                0\n",
        "52                0\n",
        "53                0\n",
        "54                0\n",
        "55                0\n",
        "56                0\n",
        "57                0\n",
        "58                0\n",
        "59                0\n",
        "                ...\n",
        "\n",
        "[629 rows x 1 columns]"
       ]
      }
     ],
     "prompt_number": 21
    },
    {
     "cell_type": "code",
     "collapsed": false,
     "input": [
      "yy.mean()"
     ],
     "language": "python",
     "metadata": {},
     "outputs": [
      {
       "metadata": {},
       "output_type": "pyout",
       "prompt_number": 22,
       "text": [
        "zeroBalanceCode    0.023847\n",
        "dtype: float64"
       ]
      }
     ],
     "prompt_number": 22
    },
    {
     "cell_type": "code",
     "collapsed": false,
     "input": [
      "coef_l1_LR = clf_l1_LR.coef_.ravel()\n",
      "sparsity_l1_LR = np.mean(coef_l1_LR == 0) * 100"
     ],
     "language": "python",
     "metadata": {},
     "outputs": [],
     "prompt_number": 23
    },
    {
     "cell_type": "code",
     "collapsed": false,
     "input": [
      "print(\"Sparsity with L1 penalty: %.2f%%\" % sparsity_l1_LR)\n",
      "print clf_l1_LR.coef_"
     ],
     "language": "python",
     "metadata": {},
     "outputs": [
      {
       "output_type": "stream",
       "stream": "stdout",
       "text": [
        "Sparsity with L1 penalty: 0.00%\n",
        "[[ -6.23301788e-02  -1.01151457e-05  -2.80692875e-03  -2.83933908e-01\n",
        "   -2.30428996e-04]]\n"
       ]
      }
     ],
     "prompt_number": 37
    },
    {
     "cell_type": "code",
     "collapsed": false,
     "input": [
      "from sklearn.metrics import confusion_matrix"
     ],
     "language": "python",
     "metadata": {},
     "outputs": [],
     "prompt_number": 27
    },
    {
     "cell_type": "code",
     "collapsed": false,
     "input": [
      "cm = confusion_matrix(yy, predictions)"
     ],
     "language": "python",
     "metadata": {},
     "outputs": [],
     "prompt_number": 30
    },
    {
     "cell_type": "code",
     "collapsed": false,
     "input": [
      "import pylab as pl"
     ],
     "language": "python",
     "metadata": {},
     "outputs": [],
     "prompt_number": 31
    },
    {
     "cell_type": "code",
     "collapsed": false,
     "input": [
      "# Show confusion matrix in a separate window\n",
      "pl.matshow(cm)\n",
      "pl.title('Confusion matrix')\n",
      "pl.colorbar()\n",
      "pl.ylabel('True label')\n",
      "pl.xlabel('Predicted label')\n",
      "pl.show()"
     ],
     "language": "python",
     "metadata": {},
     "outputs": [],
     "prompt_number": 34
    },
    {
     "cell_type": "code",
     "collapsed": false,
     "input": [
      "print(cm)"
     ],
     "language": "python",
     "metadata": {},
     "outputs": [
      {
       "output_type": "stream",
       "stream": "stdout",
       "text": [
        "[[614   0]\n",
        " [ 15   0]]\n"
       ]
      }
     ],
     "prompt_number": 35
    },
    {
     "cell_type": "heading",
     "level": 3,
     "metadata": {},
     "source": [
      "Next Steps:"
     ]
    },
    {
     "cell_type": "heading",
     "level": 4,
     "metadata": {},
     "source": [
      "1. Use complete dataset from Fannie Mae and Freddie Mac\n",
      "2. Use more features such as credit score\n",
      "3. Try different models such as Random Forest and/or Deep learning and see how different model compares."
     ]
    }
   ],
   "metadata": {}
  }
 ]
}