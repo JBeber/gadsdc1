{
 "metadata": {
  "name": "Logistic Regression Dave"
 },
 "nbformat": 3,
 "nbformat_minor": 0,
 "worksheets": [
  {
   "cells": [
    {
     "cell_type": "markdown",
     "metadata": {},
     "source": "#Wine Quality (Red Wines)\n\nFor this assignment I have chosen the [Wine Quality Dataset](http://archive.ics.uci.edu/ml/machine-learning-databases/wine-quality/winequality-red.csv) from UC Irvine's list of datasets. This dataset includes 1,599 observations of 12 variables. Trying to determine wine quality is something that can be subjective for most, but if we try to determine the quality of wine objectively there might be some variables that stand out more than others. One of the variables included here is *quality* so we'll be looking at which features best predict the quality of the red wine.\n"
    },
    {
     "cell_type": "code",
     "collapsed": false,
     "input": "#Import functions\n\nimport pandas as pd\nfrom sklearn.linear_model import LogisticRegression\nfrom sklearn.cross_validation import train_test_split\nfrom sklearn import metrics\nfrom sklearn.cross_validation import cross_val_score\nimport matplotlib.pyplot as plt",
     "language": "python",
     "metadata": {},
     "outputs": [],
     "prompt_number": 1
    },
    {
     "cell_type": "code",
     "collapsed": false,
     "input": "#Read in the wine quality (red wines) csv as a dataframe\n\ndf = pd.read_csv('http://archive.ics.uci.edu/ml/machine-learning-databases/wine-quality/winequality-red.csv', sep = ';')\n\n#For our binary classification as the scale is 1-10 we want to make a new column so that anything above 5 is considered \"good\"\ndf['good'] = (df.quality > 5).astype(int)",
     "language": "python",
     "metadata": {},
     "outputs": [],
     "prompt_number": 2
    },
    {
     "cell_type": "code",
     "collapsed": false,
     "input": "#Use the describe function to see the variables and get some basic statistics. \n\ndf.describe()",
     "language": "python",
     "metadata": {},
     "outputs": [
      {
       "html": "<div style=\"max-height:1000px;max-width:1500px;overflow:auto;\">\n<table border=\"1\" class=\"dataframe\">\n  <thead>\n    <tr style=\"text-align: right;\">\n      <th></th>\n      <th>fixed acidity</th>\n      <th>volatile acidity</th>\n      <th>citric acid</th>\n      <th>residual sugar</th>\n      <th>chlorides</th>\n      <th>free sulfur dioxide</th>\n      <th>total sulfur dioxide</th>\n      <th>density</th>\n      <th>pH</th>\n      <th>sulphates</th>\n      <th>alcohol</th>\n      <th>quality</th>\n      <th>good</th>\n    </tr>\n  </thead>\n  <tbody>\n    <tr>\n      <th>count</th>\n      <td> 1599.000000</td>\n      <td> 1599.000000</td>\n      <td> 1599.000000</td>\n      <td> 1599.000000</td>\n      <td> 1599.000000</td>\n      <td> 1599.000000</td>\n      <td> 1599.000000</td>\n      <td> 1599.000000</td>\n      <td> 1599.000000</td>\n      <td> 1599.000000</td>\n      <td> 1599.000000</td>\n      <td> 1599.000000</td>\n      <td> 1599.000000</td>\n    </tr>\n    <tr>\n      <th>mean</th>\n      <td>    8.319637</td>\n      <td>    0.527821</td>\n      <td>    0.270976</td>\n      <td>    2.538806</td>\n      <td>    0.087467</td>\n      <td>   15.874922</td>\n      <td>   46.467792</td>\n      <td>    0.996747</td>\n      <td>    3.311113</td>\n      <td>    0.658149</td>\n      <td>   10.422983</td>\n      <td>    5.636023</td>\n      <td>    0.534709</td>\n    </tr>\n    <tr>\n      <th>std</th>\n      <td>    1.741096</td>\n      <td>    0.179060</td>\n      <td>    0.194801</td>\n      <td>    1.409928</td>\n      <td>    0.047065</td>\n      <td>   10.460157</td>\n      <td>   32.895324</td>\n      <td>    0.001887</td>\n      <td>    0.154386</td>\n      <td>    0.169507</td>\n      <td>    1.065668</td>\n      <td>    0.807569</td>\n      <td>    0.498950</td>\n    </tr>\n    <tr>\n      <th>min</th>\n      <td>    4.600000</td>\n      <td>    0.120000</td>\n      <td>    0.000000</td>\n      <td>    0.900000</td>\n      <td>    0.012000</td>\n      <td>    1.000000</td>\n      <td>    6.000000</td>\n      <td>    0.990070</td>\n      <td>    2.740000</td>\n      <td>    0.330000</td>\n      <td>    8.400000</td>\n      <td>    3.000000</td>\n      <td>    0.000000</td>\n    </tr>\n    <tr>\n      <th>25%</th>\n      <td>    7.100000</td>\n      <td>    0.390000</td>\n      <td>    0.090000</td>\n      <td>    1.900000</td>\n      <td>    0.070000</td>\n      <td>    7.000000</td>\n      <td>   22.000000</td>\n      <td>    0.995600</td>\n      <td>    3.210000</td>\n      <td>    0.550000</td>\n      <td>    9.500000</td>\n      <td>    5.000000</td>\n      <td>    0.000000</td>\n    </tr>\n    <tr>\n      <th>50%</th>\n      <td>    7.900000</td>\n      <td>    0.520000</td>\n      <td>    0.260000</td>\n      <td>    2.200000</td>\n      <td>    0.079000</td>\n      <td>   14.000000</td>\n      <td>   38.000000</td>\n      <td>    0.996750</td>\n      <td>    3.310000</td>\n      <td>    0.620000</td>\n      <td>   10.200000</td>\n      <td>    6.000000</td>\n      <td>    1.000000</td>\n    </tr>\n    <tr>\n      <th>75%</th>\n      <td>    9.200000</td>\n      <td>    0.640000</td>\n      <td>    0.420000</td>\n      <td>    2.600000</td>\n      <td>    0.090000</td>\n      <td>   21.000000</td>\n      <td>   62.000000</td>\n      <td>    0.997835</td>\n      <td>    3.400000</td>\n      <td>    0.730000</td>\n      <td>   11.100000</td>\n      <td>    6.000000</td>\n      <td>    1.000000</td>\n    </tr>\n    <tr>\n      <th>max</th>\n      <td>   15.900000</td>\n      <td>    1.580000</td>\n      <td>    1.000000</td>\n      <td>   15.500000</td>\n      <td>    0.611000</td>\n      <td>   72.000000</td>\n      <td>  289.000000</td>\n      <td>    1.003690</td>\n      <td>    4.010000</td>\n      <td>    2.000000</td>\n      <td>   14.900000</td>\n      <td>    8.000000</td>\n      <td>    1.000000</td>\n    </tr>\n  </tbody>\n</table>\n<p>8 rows \u00d7 13 columns</p>\n</div>",
       "metadata": {},
       "output_type": "pyout",
       "prompt_number": 3,
       "text": "       fixed acidity  volatile acidity  citric acid  residual sugar  \\\ncount    1599.000000       1599.000000  1599.000000     1599.000000   \nmean        8.319637          0.527821     0.270976        2.538806   \nstd         1.741096          0.179060     0.194801        1.409928   \nmin         4.600000          0.120000     0.000000        0.900000   \n25%         7.100000          0.390000     0.090000        1.900000   \n50%         7.900000          0.520000     0.260000        2.200000   \n75%         9.200000          0.640000     0.420000        2.600000   \nmax        15.900000          1.580000     1.000000       15.500000   \n\n         chlorides  free sulfur dioxide  total sulfur dioxide      density  \\\ncount  1599.000000          1599.000000           1599.000000  1599.000000   \nmean      0.087467            15.874922             46.467792     0.996747   \nstd       0.047065            10.460157             32.895324     0.001887   \nmin       0.012000             1.000000              6.000000     0.990070   \n25%       0.070000             7.000000             22.000000     0.995600   \n50%       0.079000            14.000000             38.000000     0.996750   \n75%       0.090000            21.000000             62.000000     0.997835   \nmax       0.611000            72.000000            289.000000     1.003690   \n\n                pH    sulphates      alcohol      quality         good  \ncount  1599.000000  1599.000000  1599.000000  1599.000000  1599.000000  \nmean      3.311113     0.658149    10.422983     5.636023     0.534709  \nstd       0.154386     0.169507     1.065668     0.807569     0.498950  \nmin       2.740000     0.330000     8.400000     3.000000     0.000000  \n25%       3.210000     0.550000     9.500000     5.000000     0.000000  \n50%       3.310000     0.620000    10.200000     6.000000     1.000000  \n75%       3.400000     0.730000    11.100000     6.000000     1.000000  \nmax       4.010000     2.000000    14.900000     8.000000     1.000000  \n\n[8 rows x 13 columns]"
      }
     ],
     "prompt_number": 3
    },
    {
     "cell_type": "code",
     "collapsed": false,
     "input": "df.groupby('good').mean()",
     "language": "python",
     "metadata": {},
     "outputs": [
      {
       "html": "<div style=\"max-height:1000px;max-width:1500px;overflow:auto;\">\n<table border=\"1\" class=\"dataframe\">\n  <thead>\n    <tr style=\"text-align: right;\">\n      <th></th>\n      <th>fixed acidity</th>\n      <th>volatile acidity</th>\n      <th>citric acid</th>\n      <th>residual sugar</th>\n      <th>chlorides</th>\n      <th>free sulfur dioxide</th>\n      <th>total sulfur dioxide</th>\n      <th>density</th>\n      <th>pH</th>\n      <th>sulphates</th>\n      <th>alcohol</th>\n      <th>quality</th>\n    </tr>\n    <tr>\n      <th>good</th>\n      <th></th>\n      <th></th>\n      <th></th>\n      <th></th>\n      <th></th>\n      <th></th>\n      <th></th>\n      <th></th>\n      <th></th>\n      <th></th>\n      <th></th>\n      <th></th>\n    </tr>\n  </thead>\n  <tbody>\n    <tr>\n      <th>0</th>\n      <td> 8.142204</td>\n      <td> 0.589503</td>\n      <td> 0.237755</td>\n      <td> 2.542070</td>\n      <td> 0.092989</td>\n      <td> 16.567204</td>\n      <td> 54.645161</td>\n      <td> 0.997068</td>\n      <td> 3.311653</td>\n      <td> 0.618535</td>\n      <td>  9.926478</td>\n      <td> 4.901882</td>\n    </tr>\n    <tr>\n      <th>1</th>\n      <td> 8.474035</td>\n      <td> 0.474146</td>\n      <td> 0.299883</td>\n      <td> 2.535965</td>\n      <td> 0.082661</td>\n      <td> 15.272515</td>\n      <td> 39.352047</td>\n      <td> 0.996467</td>\n      <td> 3.310643</td>\n      <td> 0.692620</td>\n      <td> 10.855029</td>\n      <td> 6.274854</td>\n    </tr>\n  </tbody>\n</table>\n<p>2 rows \u00d7 12 columns</p>\n</div>",
       "metadata": {},
       "output_type": "pyout",
       "prompt_number": 8,
       "text": "      fixed acidity  volatile acidity  citric acid  residual sugar  chlorides  \\\ngood                                                                            \n0          8.142204          0.589503     0.237755        2.542070   0.092989   \n1          8.474035          0.474146     0.299883        2.535965   0.082661   \n\n      free sulfur dioxide  total sulfur dioxide   density        pH  \\\ngood                                                                  \n0               16.567204             54.645161  0.997068  3.311653   \n1               15.272515             39.352047  0.996467  3.310643   \n\n      sulphates    alcohol   quality  \ngood                                  \n0      0.618535   9.926478  4.901882  \n1      0.692620  10.855029  6.274854  \n\n[2 rows x 12 columns]"
      }
     ],
     "prompt_number": 8
    },
    {
     "cell_type": "code",
     "collapsed": false,
     "input": "#histogram of wines by the quality of the wine. As shown here the majority of the wines fall are classified \n#as a 5 or 6 on a scale of 1-10.\n\n%pylab inline\n\nplt.hist(df.quality)\nplt.title(\"Distribution of Wine Quality\")\nplt.xlabel(\"Wine Quality\")\nplt.ylabel(\"Count of Wines\")",
     "language": "python",
     "metadata": {},
     "outputs": [
      {
       "output_type": "stream",
       "stream": "stdout",
       "text": "Populating the interactive namespace from numpy and matplotlib\n"
      },
      {
       "metadata": {},
       "output_type": "pyout",
       "prompt_number": 73,
       "text": "<matplotlib.text.Text at 0x108f20050>"
      },
      {
       "metadata": {},
       "output_type": "display_data",
       "png": "[encoded data removed]",
       "text": "<matplotlib.figure.Figure at 0x1006473d0>"
      }
     ],
     "prompt_number": 73
    },
    {
     "cell_type": "code",
     "collapsed": false,
     "input": "#As we are trying to predict to see if a wine is below or above average 'quality' \n#we are trying to see if there are any patterns for each of the variables based on means. \n\ndf.groupby('quality').mean()",
     "language": "python",
     "metadata": {},
     "outputs": [
      {
       "html": "<div style=\"max-height:1000px;max-width:1500px;overflow:auto;\">\n<table border=\"1\" class=\"dataframe\">\n  <thead>\n    <tr style=\"text-align: right;\">\n      <th></th>\n      <th>fixed acidity</th>\n      <th>volatile acidity</th>\n      <th>citric acid</th>\n      <th>residual sugar</th>\n      <th>chlorides</th>\n      <th>free sulfur dioxide</th>\n      <th>total sulfur dioxide</th>\n      <th>density</th>\n      <th>pH</th>\n      <th>sulphates</th>\n      <th>alcohol</th>\n      <th>good</th>\n    </tr>\n    <tr>\n      <th>quality</th>\n      <th></th>\n      <th></th>\n      <th></th>\n      <th></th>\n      <th></th>\n      <th></th>\n      <th></th>\n      <th></th>\n      <th></th>\n      <th></th>\n      <th></th>\n      <th></th>\n    </tr>\n  </thead>\n  <tbody>\n    <tr>\n      <th>3</th>\n      <td> 8.360000</td>\n      <td> 0.884500</td>\n      <td> 0.171000</td>\n      <td> 2.635000</td>\n      <td> 0.122500</td>\n      <td> 11.000000</td>\n      <td> 24.900000</td>\n      <td> 0.997464</td>\n      <td> 3.398000</td>\n      <td> 0.570000</td>\n      <td>  9.955000</td>\n      <td> 0</td>\n    </tr>\n    <tr>\n      <th>4</th>\n      <td> 7.779245</td>\n      <td> 0.693962</td>\n      <td> 0.174151</td>\n      <td> 2.694340</td>\n      <td> 0.090679</td>\n      <td> 12.264151</td>\n      <td> 36.245283</td>\n      <td> 0.996542</td>\n      <td> 3.381509</td>\n      <td> 0.596415</td>\n      <td> 10.265094</td>\n      <td> 0</td>\n    </tr>\n    <tr>\n      <th>5</th>\n      <td> 8.167254</td>\n      <td> 0.577041</td>\n      <td> 0.243686</td>\n      <td> 2.528855</td>\n      <td> 0.092736</td>\n      <td> 16.983847</td>\n      <td> 56.513950</td>\n      <td> 0.997104</td>\n      <td> 3.304949</td>\n      <td> 0.620969</td>\n      <td>  9.899706</td>\n      <td> 0</td>\n    </tr>\n    <tr>\n      <th>6</th>\n      <td> 8.347179</td>\n      <td> 0.497484</td>\n      <td> 0.273824</td>\n      <td> 2.477194</td>\n      <td> 0.084956</td>\n      <td> 15.711599</td>\n      <td> 40.869906</td>\n      <td> 0.996615</td>\n      <td> 3.318072</td>\n      <td> 0.675329</td>\n      <td> 10.629519</td>\n      <td> 1</td>\n    </tr>\n    <tr>\n      <th>7</th>\n      <td> 8.872362</td>\n      <td> 0.403920</td>\n      <td> 0.375176</td>\n      <td> 2.720603</td>\n      <td> 0.076588</td>\n      <td> 14.045226</td>\n      <td> 35.020101</td>\n      <td> 0.996104</td>\n      <td> 3.290754</td>\n      <td> 0.741256</td>\n      <td> 11.465913</td>\n      <td> 1</td>\n    </tr>\n    <tr>\n      <th>8</th>\n      <td> 8.566667</td>\n      <td> 0.423333</td>\n      <td> 0.391111</td>\n      <td> 2.577778</td>\n      <td> 0.068444</td>\n      <td> 13.277778</td>\n      <td> 33.444444</td>\n      <td> 0.995212</td>\n      <td> 3.267222</td>\n      <td> 0.767778</td>\n      <td> 12.094444</td>\n      <td> 1</td>\n    </tr>\n  </tbody>\n</table>\n<p>6 rows \u00d7 12 columns</p>\n</div>",
       "metadata": {},
       "output_type": "pyout",
       "prompt_number": 77,
       "text": "         fixed acidity  volatile acidity  citric acid  residual sugar  \\\nquality                                                                 \n3             8.360000          0.884500     0.171000        2.635000   \n4             7.779245          0.693962     0.174151        2.694340   \n5             8.167254          0.577041     0.243686        2.528855   \n6             8.347179          0.497484     0.273824        2.477194   \n7             8.872362          0.403920     0.375176        2.720603   \n8             8.566667          0.423333     0.391111        2.577778   \n\n         chlorides  free sulfur dioxide  total sulfur dioxide   density  \\\nquality                                                                   \n3         0.122500            11.000000             24.900000  0.997464   \n4         0.090679            12.264151             36.245283  0.996542   \n5         0.092736            16.983847             56.513950  0.997104   \n6         0.084956            15.711599             40.869906  0.996615   \n7         0.076588            14.045226             35.020101  0.996104   \n8         0.068444            13.277778             33.444444  0.995212   \n\n               pH  sulphates    alcohol  good  \nquality                                        \n3        3.398000   0.570000   9.955000     0  \n4        3.381509   0.596415  10.265094     0  \n5        3.304949   0.620969   9.899706     0  \n6        3.318072   0.675329  10.629519     1  \n7        3.290754   0.741256  11.465913     1  \n8        3.267222   0.767778  12.094444     1  \n\n[6 rows x 12 columns]"
      }
     ],
     "prompt_number": 77
    },
    {
     "cell_type": "code",
     "collapsed": false,
     "input": "#Looking at the different variables I have selected the following features:'volatile acidity', 'citric acid', 'chlorides', \n#'alcohol', 'pH', 'sulphates' to predict whether or not a wine is 'good'.\n\ncols_to_keep = ['volatile acidity', 'citric acid', 'chlorides', 'alcohol', 'pH', 'sulphates']\nx = df[cols_to_keep]\ny = data.good.values",
     "language": "python",
     "metadata": {},
     "outputs": [],
     "prompt_number": 57
    },
    {
     "cell_type": "code",
     "collapsed": false,
     "input": "#Create the model using Logistic Regression, fit it, and generate a score based on the selected features. \n#Using the selected features we see a score of 73%. \n\nmodel = LogisticRegression()\nmodel.fit(x, y)\nmodel.score(x, y)",
     "language": "python",
     "metadata": {},
     "outputs": [
      {
       "metadata": {},
       "output_type": "pyout",
       "prompt_number": 58,
       "text": "0.73545966228893056"
      }
     ],
     "prompt_number": 58
    },
    {
     "cell_type": "code",
     "collapsed": false,
     "input": "#Split up the data set into test and training sets\nx_train, x_test, y_train, y_test = train_test_split(x, y, test_size=0.3, random_state=1)\ntestmodel = LogisticRegression()\ntestmodel.fit(x_train, y_train)",
     "language": "python",
     "metadata": {},
     "outputs": [
      {
       "metadata": {},
       "output_type": "pyout",
       "prompt_number": 81,
       "text": "LogisticRegression(C=1.0, class_weight=None, dual=False, fit_intercept=True,\n          intercept_scaling=1, penalty='l2', random_state=None, tol=0.0001)"
      }
     ],
     "prompt_number": 81
    },
    {
     "cell_type": "code",
     "collapsed": false,
     "input": "#Generate some metrics based on the training and test sets\nprint metrics.accuracy_score(y_test, predicted)\nprint metrics.roc_auc_score(y_test, predicted)",
     "language": "python",
     "metadata": {},
     "outputs": [
      {
       "output_type": "stream",
       "stream": "stdout",
       "text": "0.7375\n0.737391304348\n"
      }
     ],
     "prompt_number": 82
    },
    {
     "cell_type": "code",
     "collapsed": false,
     "input": "#Perform cross validation using 5 folds\nscores = cross_val_score(LogisticRegression(), x, y, scoring='accuracy', cv=5)\nprint scores\nprint scores.mean()",
     "language": "python",
     "metadata": {},
     "outputs": [
      {
       "output_type": "stream",
       "stream": "stdout",
       "text": "[ 0.7         0.775       0.725       0.7375      0.74294671]\n0.736089341693\n"
      }
     ],
     "prompt_number": 80
    },
    {
     "cell_type": "markdown",
     "metadata": {},
     "source": "#Conclusion\n\nOverall the model was around 73% which isn't bad. We ran a logistic regression on it then split it up into test and training sets before getting some metrics and doing a cross validation. Some next steps would be to see if this model holds true for the white wine dataset to see if the features are predictive for white wines as well. I could have done more visualizations and changed the cutoff from 5 to 4 or 6 to see how that would change the model. Perhaps if I included the white wines I could have tried to predict for whether a wine was red or white as well. "
    },
    {
     "cell_type": "code",
     "collapsed": false,
     "input": "",
     "language": "python",
     "metadata": {},
     "outputs": []
    }
   ],
   "metadata": {}
  }
 ]
}