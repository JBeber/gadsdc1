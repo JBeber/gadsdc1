{
 "metadata": {
  "name": "",
  "signature": "sha256:943f02c15ddbb148073eaf72779db474c5edf85c6d3f564e137222fb7801a115"
 },
 "nbformat": 3,
 "nbformat_minor": 0,
 "worksheets": [
  {
   "cells": [
    {
     "cell_type": "markdown",
     "metadata": {},
     "source": [
      "# Logistic Regression with scikit-learn\n",
      "\n",
      "This is an example of logistic regression in Python with the [scikit-learn module](http://scikit-learn.org/), performed for an [assignment](https://github.com/ajschumacher/gadsdc/tree/master/logistic_assignment) with my [General Assembly Data Science class](https://generalassemb.ly/education/data-science).\n",
      "\n",
      "## Dataset\n",
      "\n",
      "The dataset I chose is the [affairs dataset](http://statsmodels.sourceforge.net/stable/datasets/generated/fair.html) that comes with [Statsmodels](http://statsmodels.sourceforge.net/). It was derived from a survey of women in 1974 by Redbook magazine, in which married women were asked about their participation in extramarital affairs. More information about the study is available in a [1978 paper](http://fairmodel.econ.yale.edu/rayfair/pdf/1978a200.pdf) from the Journal of Political Economy.\n",
      "\n",
      "## Description of Variables\n",
      "\n",
      "The dataset contains 6366 observations of 9 variables:\n",
      "\n",
      "* `rate_marriage`: woman's rating of her marriage (1 = very poor, 5 = very good)\n",
      "* `age`: woman's age\n",
      "* `yrs_married`: number of years married\n",
      "* `children`: number of children\n",
      "* `religious`: woman's rating of how religious she is (1 = not religious, 4 = strongly religious)\n",
      "* `educ`: level of education (9 = grade school, 12 = high school, 14 = some college, 16 = college graduate, 17 = some graduate school, 20 = advanced degree)\n",
      "* `occupation`: woman's occupation (1 = student, 2 = farming/semi-skilled/unskilled, 3 = \"white collar\", 4 = teacher/nurse/writer/technician/skilled, 5 = managerial/business, 6 = professional with advanced degree)\n",
      "* `occupation_husb`: husband's occupation (same coding as above)\n",
      "* `affairs`: time spent in extra-marital affairs\n",
      "\n",
      "## Problem Statement\n",
      "\n",
      "I decided to treat this as a classification problem by creating a new binary variable `affair` (did the woman have at least one affair?) and trying to predict the classification for each woman.\n",
      "\n",
      "Skipper Seabold, one of the primary contributors to Statsmodels, did a similar classification in his [Statsmodels demo](https://github.com/jseabold/pydc) at a [Statistical Programming DC Meetup](http://www.meetup.com/stats-prog-dc/events/173693192/). However, he used Statsmodels for the classification (whereas I'm using scikit-learn), and he treated the occupation variables as continuous (whereas I'm treating them as categorical)."
     ]
    },
    {
     "cell_type": "markdown",
     "metadata": {},
     "source": [
      "## Import modules"
     ]
    },
    {
     "cell_type": "code",
     "collapsed": false,
     "input": [
      "import numpy as np\n",
      "import pandas as pd\n",
      "import statsmodels.api as sm\n",
      "import matplotlib.pyplot as plt\n",
      "from patsy import dmatrices\n",
      "from sklearn.linear_model import LogisticRegression\n",
      "from sklearn.cross_validation import train_test_split\n",
      "from sklearn import metrics\n",
      "from sklearn.cross_validation import cross_val_score"
     ],
     "language": "python",
     "metadata": {},
     "outputs": [],
     "prompt_number": 1
    },
    {
     "cell_type": "markdown",
     "metadata": {},
     "source": [
      "## Data Pre-Processing\n",
      "\n",
      "First, let's load the dataset and add a binary `affair` column."
     ]
    },
    {
     "cell_type": "code",
     "collapsed": false,
     "input": [
      "# load dataset\n",
      "dta = sm.datasets.fair.load_pandas().data\n",
      "\n",
      "# add \"affair\" column: 1 represents having affairs, 0 represents not\n",
      "dta['affair'] = (dta.affairs > 0).astype(int)"
     ],
     "language": "python",
     "metadata": {},
     "outputs": [],
     "prompt_number": 2
    },
    {
     "cell_type": "markdown",
     "metadata": {},
     "source": [
      "## Data Exploration"
     ]
    },
    {
     "cell_type": "code",
     "collapsed": false,
     "input": [
      "dta.groupby('affair').mean()"
     ],
     "language": "python",
     "metadata": {},
     "outputs": [
      {
       "html": [
        "<div style=\"max-height:1000px;max-width:1500px;overflow:auto;\">\n",
        "<table border=\"1\" class=\"dataframe\">\n",
        "  <thead>\n",
        "    <tr style=\"text-align: right;\">\n",
        "      <th></th>\n",
        "      <th>rate_marriage</th>\n",
        "      <th>age</th>\n",
        "      <th>yrs_married</th>\n",
        "      <th>children</th>\n",
        "      <th>religious</th>\n",
        "      <th>educ</th>\n",
        "      <th>occupation</th>\n",
        "      <th>occupation_husb</th>\n",
        "      <th>affairs</th>\n",
        "    </tr>\n",
        "    <tr>\n",
        "      <th>affair</th>\n",
        "      <th></th>\n",
        "      <th></th>\n",
        "      <th></th>\n",
        "      <th></th>\n",
        "      <th></th>\n",
        "      <th></th>\n",
        "      <th></th>\n",
        "      <th></th>\n",
        "      <th></th>\n",
        "    </tr>\n",
        "  </thead>\n",
        "  <tbody>\n",
        "    <tr>\n",
        "      <th>0</th>\n",
        "      <td> 4.329701</td>\n",
        "      <td> 28.390679</td>\n",
        "      <td>  7.989335</td>\n",
        "      <td> 1.238813</td>\n",
        "      <td> 2.504521</td>\n",
        "      <td> 14.322977</td>\n",
        "      <td> 3.405286</td>\n",
        "      <td> 3.833758</td>\n",
        "      <td> 0.000000</td>\n",
        "    </tr>\n",
        "    <tr>\n",
        "      <th>1</th>\n",
        "      <td> 3.647345</td>\n",
        "      <td> 30.537019</td>\n",
        "      <td> 11.152460</td>\n",
        "      <td> 1.728933</td>\n",
        "      <td> 2.261568</td>\n",
        "      <td> 13.972236</td>\n",
        "      <td> 3.463712</td>\n",
        "      <td> 3.884559</td>\n",
        "      <td> 2.187243</td>\n",
        "    </tr>\n",
        "  </tbody>\n",
        "</table>\n",
        "<p>2 rows \u00d7 9 columns</p>\n",
        "</div>"
       ],
       "metadata": {},
       "output_type": "pyout",
       "prompt_number": 3,
       "text": [
        "        rate_marriage        age  yrs_married  children  religious       educ  \\\n",
        "affair                                                                          \n",
        "0            4.329701  28.390679     7.989335  1.238813   2.504521  14.322977   \n",
        "1            3.647345  30.537019    11.152460  1.728933   2.261568  13.972236   \n",
        "\n",
        "        occupation  occupation_husb   affairs  \n",
        "affair                                         \n",
        "0         3.405286         3.833758  0.000000  \n",
        "1         3.463712         3.884559  2.187243  \n",
        "\n",
        "[2 rows x 9 columns]"
       ]
      }
     ],
     "prompt_number": 3
    },
    {
     "cell_type": "markdown",
     "metadata": {},
     "source": [
      "We can see that on average, women who have affairs rate their marriages lower, which is to be expected. Let's take another look at the `rate_marriage` variable."
     ]
    },
    {
     "cell_type": "code",
     "collapsed": false,
     "input": [
      "dta.groupby('rate_marriage').mean()"
     ],
     "language": "python",
     "metadata": {},
     "outputs": [
      {
       "html": [
        "<div style=\"max-height:1000px;max-width:1500px;overflow:auto;\">\n",
        "<table border=\"1\" class=\"dataframe\">\n",
        "  <thead>\n",
        "    <tr style=\"text-align: right;\">\n",
        "      <th></th>\n",
        "      <th>age</th>\n",
        "      <th>yrs_married</th>\n",
        "      <th>children</th>\n",
        "      <th>religious</th>\n",
        "      <th>educ</th>\n",
        "      <th>occupation</th>\n",
        "      <th>occupation_husb</th>\n",
        "      <th>affairs</th>\n",
        "      <th>affair</th>\n",
        "    </tr>\n",
        "    <tr>\n",
        "      <th>rate_marriage</th>\n",
        "      <th></th>\n",
        "      <th></th>\n",
        "      <th></th>\n",
        "      <th></th>\n",
        "      <th></th>\n",
        "      <th></th>\n",
        "      <th></th>\n",
        "      <th></th>\n",
        "      <th></th>\n",
        "    </tr>\n",
        "  </thead>\n",
        "  <tbody>\n",
        "    <tr>\n",
        "      <th>1</th>\n",
        "      <td> 33.823232</td>\n",
        "      <td> 13.914141</td>\n",
        "      <td> 2.308081</td>\n",
        "      <td> 2.343434</td>\n",
        "      <td> 13.848485</td>\n",
        "      <td> 3.232323</td>\n",
        "      <td> 3.838384</td>\n",
        "      <td> 1.201671</td>\n",
        "      <td> 0.747475</td>\n",
        "    </tr>\n",
        "    <tr>\n",
        "      <th>2</th>\n",
        "      <td> 30.471264</td>\n",
        "      <td> 10.727011</td>\n",
        "      <td> 1.735632</td>\n",
        "      <td> 2.330460</td>\n",
        "      <td> 13.864943</td>\n",
        "      <td> 3.327586</td>\n",
        "      <td> 3.764368</td>\n",
        "      <td> 1.615745</td>\n",
        "      <td> 0.635057</td>\n",
        "    </tr>\n",
        "    <tr>\n",
        "      <th>3</th>\n",
        "      <td> 30.008056</td>\n",
        "      <td> 10.239174</td>\n",
        "      <td> 1.638469</td>\n",
        "      <td> 2.308157</td>\n",
        "      <td> 14.001007</td>\n",
        "      <td> 3.402820</td>\n",
        "      <td> 3.798590</td>\n",
        "      <td> 1.371281</td>\n",
        "      <td> 0.550856</td>\n",
        "    </tr>\n",
        "    <tr>\n",
        "      <th>4</th>\n",
        "      <td> 28.856601</td>\n",
        "      <td>  8.816905</td>\n",
        "      <td> 1.369536</td>\n",
        "      <td> 2.400981</td>\n",
        "      <td> 14.144514</td>\n",
        "      <td> 3.420161</td>\n",
        "      <td> 3.835861</td>\n",
        "      <td> 0.674837</td>\n",
        "      <td> 0.322926</td>\n",
        "    </tr>\n",
        "    <tr>\n",
        "      <th>5</th>\n",
        "      <td> 28.574702</td>\n",
        "      <td>  8.311662</td>\n",
        "      <td> 1.252794</td>\n",
        "      <td> 2.506334</td>\n",
        "      <td> 14.399776</td>\n",
        "      <td> 3.454918</td>\n",
        "      <td> 3.892697</td>\n",
        "      <td> 0.348174</td>\n",
        "      <td> 0.181446</td>\n",
        "    </tr>\n",
        "  </tbody>\n",
        "</table>\n",
        "<p>5 rows \u00d7 9 columns</p>\n",
        "</div>"
       ],
       "metadata": {},
       "output_type": "pyout",
       "prompt_number": 4,
       "text": [
        "                     age  yrs_married  children  religious       educ  \\\n",
        "rate_marriage                                                           \n",
        "1              33.823232    13.914141  2.308081   2.343434  13.848485   \n",
        "2              30.471264    10.727011  1.735632   2.330460  13.864943   \n",
        "3              30.008056    10.239174  1.638469   2.308157  14.001007   \n",
        "4              28.856601     8.816905  1.369536   2.400981  14.144514   \n",
        "5              28.574702     8.311662  1.252794   2.506334  14.399776   \n",
        "\n",
        "               occupation  occupation_husb   affairs    affair  \n",
        "rate_marriage                                                   \n",
        "1                3.232323         3.838384  1.201671  0.747475  \n",
        "2                3.327586         3.764368  1.615745  0.635057  \n",
        "3                3.402820         3.798590  1.371281  0.550856  \n",
        "4                3.420161         3.835861  0.674837  0.322926  \n",
        "5                3.454918         3.892697  0.348174  0.181446  \n",
        "\n",
        "[5 rows x 9 columns]"
       ]
      }
     ],
     "prompt_number": 4
    },
    {
     "cell_type": "markdown",
     "metadata": {},
     "source": [
      "An increase in `age`, `yrs_married`, and `children` appears to correlate with a declining marriage rating."
     ]
    },
    {
     "cell_type": "markdown",
     "metadata": {},
     "source": [
      "## Data Visualization"
     ]
    },
    {
     "cell_type": "code",
     "collapsed": false,
     "input": [
      "# show plots in the notebook\n",
      "%matplotlib inline"
     ],
     "language": "python",
     "metadata": {},
     "outputs": [],
     "prompt_number": 5
    },
    {
     "cell_type": "markdown",
     "metadata": {},
     "source": [
      "Let's start with histograms of education and marriage rating."
     ]
    },
    {
     "cell_type": "code",
     "collapsed": false,
     "input": [
      "# histogram of education\n",
      "dta.educ.hist()\n",
      "plt.title('Histogram of Education')\n",
      "plt.xlabel('Education Level')\n",
      "plt.ylabel('Frequency')"
     ],
     "language": "python",
     "metadata": {},
     "outputs": [
      {
       "metadata": {},
       "output_type": "pyout",
       "prompt_number": 6,
       "text": [
        "<matplotlib.text.Text at 0x1712a860>"
       ]
      },
      {
       "metadata": {},
       "output_type": "display_data",
       "png": "[encoded data removed]",
       "text": [
        "<matplotlib.figure.Figure at 0x1713fbe0>"
       ]
      }
     ],
     "prompt_number": 6
    },
    {
     "cell_type": "code",
     "collapsed": false,
     "input": [
      "# histogram of marriage rating\n",
      "dta.rate_marriage.hist()\n",
      "plt.title('Histogram of Marriage Rating')\n",
      "plt.xlabel('Marriage Rating')\n",
      "plt.ylabel('Frequency')"
     ],
     "language": "python",
     "metadata": {},
     "outputs": [
      {
       "metadata": {},
       "output_type": "pyout",
       "prompt_number": 7,
       "text": [
        "<matplotlib.text.Text at 0x16fa2588>"
       ]
      },
      {
       "metadata": {},
       "output_type": "display_data",
       "png": "[encoded data removed]",
       "text": [
        "<matplotlib.figure.Figure at 0x1711ea90>"
       ]
      }
     ],
     "prompt_number": 7
    },
    {
     "cell_type": "markdown",
     "metadata": {},
     "source": [
      "Let's take a look at the distribution of marriage ratings for those having affairs versus those not having affairs."
     ]
    },
    {
     "cell_type": "code",
     "collapsed": false,
     "input": [
      "# barplot of marriage rating grouped by affair (True or False)\n",
      "pd.crosstab(dta.rate_marriage, dta.affair.astype(bool)).plot(kind='bar')\n",
      "plt.title('Marriage Rating Distribution by Affair Status')\n",
      "plt.xlabel('Marriage Rating')\n",
      "plt.ylabel('Frequency')"
     ],
     "language": "python",
     "metadata": {},
     "outputs": [
      {
       "metadata": {},
       "output_type": "pyout",
       "prompt_number": 8,
       "text": [
        "<matplotlib.text.Text at 0x17170358>"
       ]
      },
      {
       "metadata": {},
       "output_type": "display_data",
       "png": "[encoded data removed]",
       "text": [
        "<matplotlib.figure.Figure at 0x16f8da20>"
       ]
      }
     ],
     "prompt_number": 8
    },
    {
     "cell_type": "markdown",
     "metadata": {},
     "source": [
      "Let's use a stacked barplot to look at the percentage of women having affairs by number of years of marriage."
     ]
    },
    {
     "cell_type": "code",
     "collapsed": false,
     "input": [
      "affair_yrs_married = pd.crosstab(dta.yrs_married, dta.affair.astype(bool))\n",
      "affair_yrs_married.div(affair_yrs_married.sum(1).astype(float), axis=0).plot(kind='bar', stacked=True)\n",
      "plt.title('Affair Percentage by Years Married')\n",
      "plt.xlabel('Years Married')\n",
      "plt.ylabel('Percentage')"
     ],
     "language": "python",
     "metadata": {},
     "outputs": [
      {
       "metadata": {},
       "output_type": "pyout",
       "prompt_number": 9,
       "text": [
        "<matplotlib.text.Text at 0x17c1b908>"
       ]
      },
      {
       "metadata": {},
       "output_type": "display_data",
       "png": "[encoded data removed]",
       "text": [
        "<matplotlib.figure.Figure at 0x3ed3be0>"
       ]
      }
     ],
     "prompt_number": 9
    },
    {
     "cell_type": "markdown",
     "metadata": {},
     "source": [
      "## Prepare Data for Logistic Regression\n",
      "\n",
      "To prepare the data, I want to add an intercept column as well as dummy variables for `occupation` and `occupation_husb`, since I'm treating them as categorial variables. The dmatrices function from the [patsy module](http://patsy.readthedocs.org/en/latest/) can do that using formula language."
     ]
    },
    {
     "cell_type": "code",
     "collapsed": false,
     "input": [
      "# create dataframes with an intercept column and dummy variables for\n",
      "# occupation and occupation_husb\n",
      "y, X = dmatrices('affair ~ rate_marriage + age + yrs_married + children + \\\n",
      "                  religious + educ + C(occupation) + C(occupation_husb)',\n",
      "                  dta, return_type=\"dataframe\")\n",
      "print X.columns"
     ],
     "language": "python",
     "metadata": {},
     "outputs": [
      {
       "output_type": "stream",
       "stream": "stdout",
       "text": [
        "Index([u'Intercept', u'C(occupation)[T.2.0]', u'C(occupation)[T.3.0]', u'C(occupation)[T.4.0]', u'C(occupation)[T.5.0]', u'C(occupation)[T.6.0]', u'C(occupation_husb)[T.2.0]', u'C(occupation_husb)[T.3.0]', u'C(occupation_husb)[T.4.0]', u'C(occupation_husb)[T.5.0]', u'C(occupation_husb)[T.6.0]', u'rate_marriage', u'age', u'yrs_married', u'children', u'religious', u'educ'], dtype='object')\n"
       ]
      }
     ],
     "prompt_number": 10
    },
    {
     "cell_type": "markdown",
     "metadata": {},
     "source": [
      "The column names for the dummy variables are ugly, so let's rename those."
     ]
    },
    {
     "cell_type": "code",
     "collapsed": false,
     "input": [
      "# fix column names of X\n",
      "X = X.rename(columns = {'C(occupation)[T.2.0]':'occ_2',\n",
      "                        'C(occupation)[T.3.0]':'occ_3',\n",
      "                        'C(occupation)[T.4.0]':'occ_4',\n",
      "                        'C(occupation)[T.5.0]':'occ_5',\n",
      "                        'C(occupation)[T.6.0]':'occ_6',\n",
      "                        'C(occupation_husb)[T.2.0]':'occ_husb_2',\n",
      "                        'C(occupation_husb)[T.3.0]':'occ_husb_3',\n",
      "                        'C(occupation_husb)[T.4.0]':'occ_husb_4',\n",
      "                        'C(occupation_husb)[T.5.0]':'occ_husb_5',\n",
      "                        'C(occupation_husb)[T.6.0]':'occ_husb_6'})"
     ],
     "language": "python",
     "metadata": {},
     "outputs": [],
     "prompt_number": 11
    },
    {
     "cell_type": "markdown",
     "metadata": {},
     "source": [
      "We also need to flatten `y` into a 1-D array, so that scikit-learn will properly understand it as the response variable."
     ]
    },
    {
     "cell_type": "code",
     "collapsed": false,
     "input": [
      "# flatten y into a 1-D array\n",
      "y = np.ravel(y)"
     ],
     "language": "python",
     "metadata": {},
     "outputs": [],
     "prompt_number": 12
    },
    {
     "cell_type": "markdown",
     "metadata": {},
     "source": [
      "## Logistic Regression\n",
      "\n",
      "Let's go ahead and run logistic regression on the entire data set, and see how accurate it is!"
     ]
    },
    {
     "cell_type": "code",
     "collapsed": false,
     "input": [
      "# instantiate a logistic regression model, and fit with X and y\n",
      "model = LogisticRegression()\n",
      "model = model.fit(X, y)\n",
      "\n",
      "# check the accuracy on the training set\n",
      "model.score(X, y)"
     ],
     "language": "python",
     "metadata": {},
     "outputs": [
      {
       "metadata": {},
       "output_type": "pyout",
       "prompt_number": 13,
       "text": [
        "0.72588752748978946"
       ]
      }
     ],
     "prompt_number": 13
    },
    {
     "cell_type": "markdown",
     "metadata": {},
     "source": [
      "73% accuracy seems good, but what's the null error rate?"
     ]
    },
    {
     "cell_type": "code",
     "collapsed": false,
     "input": [
      "# what percentage had affairs?\n",
      "y.mean()"
     ],
     "language": "python",
     "metadata": {},
     "outputs": [
      {
       "metadata": {},
       "output_type": "pyout",
       "prompt_number": 14,
       "text": [
        "0.32249450204209867"
       ]
      }
     ],
     "prompt_number": 14
    },
    {
     "cell_type": "markdown",
     "metadata": {},
     "source": [
      "Only 32% of the women had affairs, which means that you could obtain 68% accuracy by always predicting \"no\". So we're doing better than the null error rate, but not by much.\n",
      "\n",
      "Let's examine the coefficients to see what we learn."
     ]
    },
    {
     "cell_type": "code",
     "collapsed": false,
     "input": [
      "# examine the coefficients\n",
      "pd.DataFrame(zip(X.columns, np.transpose(model.coef_)))"
     ],
     "language": "python",
     "metadata": {},
     "outputs": [
      {
       "html": [
        "<div style=\"max-height:1000px;max-width:1500px;overflow:auto;\">\n",
        "<table border=\"1\" class=\"dataframe\">\n",
        "  <thead>\n",
        "    <tr style=\"text-align: right;\">\n",
        "      <th></th>\n",
        "      <th>0</th>\n",
        "      <th>1</th>\n",
        "    </tr>\n",
        "  </thead>\n",
        "  <tbody>\n",
        "    <tr>\n",
        "      <th>0 </th>\n",
        "      <td>     Intercept</td>\n",
        "      <td>    [1.48988372957]</td>\n",
        "    </tr>\n",
        "    <tr>\n",
        "      <th>1 </th>\n",
        "      <td>         occ_2</td>\n",
        "      <td>   [0.188045598942]</td>\n",
        "    </tr>\n",
        "    <tr>\n",
        "      <th>2 </th>\n",
        "      <td>         occ_3</td>\n",
        "      <td>   [0.498926222393]</td>\n",
        "    </tr>\n",
        "    <tr>\n",
        "      <th>3 </th>\n",
        "      <td>         occ_4</td>\n",
        "      <td>    [0.25064662018]</td>\n",
        "    </tr>\n",
        "    <tr>\n",
        "      <th>4 </th>\n",
        "      <td>         occ_5</td>\n",
        "      <td>   [0.838982982602]</td>\n",
        "    </tr>\n",
        "    <tr>\n",
        "      <th>5 </th>\n",
        "      <td>         occ_6</td>\n",
        "      <td>   [0.833921262629]</td>\n",
        "    </tr>\n",
        "    <tr>\n",
        "      <th>6 </th>\n",
        "      <td>    occ_husb_2</td>\n",
        "      <td>   [0.190546828287]</td>\n",
        "    </tr>\n",
        "    <tr>\n",
        "      <th>7 </th>\n",
        "      <td>    occ_husb_3</td>\n",
        "      <td>   [0.297744578502]</td>\n",
        "    </tr>\n",
        "    <tr>\n",
        "      <th>8 </th>\n",
        "      <td>    occ_husb_4</td>\n",
        "      <td>   [0.161319424129]</td>\n",
        "    </tr>\n",
        "    <tr>\n",
        "      <th>9 </th>\n",
        "      <td>    occ_husb_5</td>\n",
        "      <td>   [0.187683007035]</td>\n",
        "    </tr>\n",
        "    <tr>\n",
        "      <th>10</th>\n",
        "      <td>    occ_husb_6</td>\n",
        "      <td>   [0.193916860892]</td>\n",
        "    </tr>\n",
        "    <tr>\n",
        "      <th>11</th>\n",
        "      <td> rate_marriage</td>\n",
        "      <td>   [-0.70312052711]</td>\n",
        "    </tr>\n",
        "    <tr>\n",
        "      <th>12</th>\n",
        "      <td>           age</td>\n",
        "      <td> [-0.0584177439191]</td>\n",
        "    </tr>\n",
        "    <tr>\n",
        "      <th>13</th>\n",
        "      <td>   yrs_married</td>\n",
        "      <td>    [0.10567679013]</td>\n",
        "    </tr>\n",
        "    <tr>\n",
        "      <th>14</th>\n",
        "      <td>      children</td>\n",
        "      <td>  [0.0169195866351]</td>\n",
        "    </tr>\n",
        "    <tr>\n",
        "      <th>15</th>\n",
        "      <td>     religious</td>\n",
        "      <td>  [-0.371135218074]</td>\n",
        "    </tr>\n",
        "    <tr>\n",
        "      <th>16</th>\n",
        "      <td>          educ</td>\n",
        "      <td>  [0.0040161519299]</td>\n",
        "    </tr>\n",
        "  </tbody>\n",
        "</table>\n",
        "<p>17 rows \u00d7 2 columns</p>\n",
        "</div>"
       ],
       "metadata": {},
       "output_type": "pyout",
       "prompt_number": 15,
       "text": [
        "                0                   1\n",
        "0       Intercept     [1.48988372957]\n",
        "1           occ_2    [0.188045598942]\n",
        "2           occ_3    [0.498926222393]\n",
        "3           occ_4     [0.25064662018]\n",
        "4           occ_5    [0.838982982602]\n",
        "5           occ_6    [0.833921262629]\n",
        "6      occ_husb_2    [0.190546828287]\n",
        "7      occ_husb_3    [0.297744578502]\n",
        "8      occ_husb_4    [0.161319424129]\n",
        "9      occ_husb_5    [0.187683007035]\n",
        "10     occ_husb_6    [0.193916860892]\n",
        "11  rate_marriage    [-0.70312052711]\n",
        "12            age  [-0.0584177439191]\n",
        "13    yrs_married     [0.10567679013]\n",
        "14       children   [0.0169195866351]\n",
        "15      religious   [-0.371135218074]\n",
        "16           educ   [0.0040161519299]\n",
        "\n",
        "[17 rows x 2 columns]"
       ]
      }
     ],
     "prompt_number": 15
    },
    {
     "cell_type": "markdown",
     "metadata": {},
     "source": [
      "Increases in marriage rating and religiousness correspond to a decrease in the likelihood of having an affair. For both the wife's occupation and the husband's occupation, the lowest likelihood of having an affair corresponds to the baseline occupation (student), since all of the dummy coefficients are positive."
     ]
    },
    {
     "cell_type": "markdown",
     "metadata": {},
     "source": [
      "## Model Evaluation Using a Validation Set\n",
      "\n",
      "So far, we have trained and tested on the same set. Let's instead split the data into a training set and a testing set."
     ]
    },
    {
     "cell_type": "code",
     "collapsed": false,
     "input": [
      "# evaluate the model by splitting into train and test sets\n",
      "X_train, X_test, y_train, y_test = train_test_split(X, y, test_size=0.3, random_state=0)\n",
      "model2 = LogisticRegression()\n",
      "model2.fit(X_train, y_train)"
     ],
     "language": "python",
     "metadata": {},
     "outputs": [
      {
       "metadata": {},
       "output_type": "pyout",
       "prompt_number": 16,
       "text": [
        "LogisticRegression(C=1.0, class_weight=None, dual=False, fit_intercept=True,\n",
        "          intercept_scaling=1, penalty='l2', random_state=None, tol=0.0001)"
       ]
      }
     ],
     "prompt_number": 16
    },
    {
     "cell_type": "markdown",
     "metadata": {},
     "source": [
      "We now need to predict class labels for the test set. We will also generate the class probabilities, just to take a look."
     ]
    },
    {
     "cell_type": "code",
     "collapsed": false,
     "input": [
      "# predict class labels for the test set\n",
      "predicted = model2.predict(X_test)\n",
      "print predicted"
     ],
     "language": "python",
     "metadata": {},
     "outputs": [
      {
       "output_type": "stream",
       "stream": "stdout",
       "text": [
        "[ 1.  0.  0. ...,  0.  0.  0.]\n"
       ]
      }
     ],
     "prompt_number": 17
    },
    {
     "cell_type": "code",
     "collapsed": false,
     "input": [
      "# generate class probabilities\n",
      "probs = model2.predict_proba(X_test)\n",
      "print probs"
     ],
     "language": "python",
     "metadata": {},
     "outputs": [
      {
       "output_type": "stream",
       "stream": "stdout",
       "text": [
        "[[ 0.3514255   0.6485745 ]\n",
        " [ 0.90952541  0.09047459]\n",
        " [ 0.72576645  0.27423355]\n",
        " ..., \n",
        " [ 0.55736908  0.44263092]\n",
        " [ 0.81213879  0.18786121]\n",
        " [ 0.74729574  0.25270426]]\n"
       ]
      }
     ],
     "prompt_number": 18
    },
    {
     "cell_type": "markdown",
     "metadata": {},
     "source": [
      "As you can see, the classifier is predicting a 1 (having an affair) any time the probability in the second column is greater than 0.5.\n",
      "\n",
      "Now let's generate some evaluation metrics."
     ]
    },
    {
     "cell_type": "code",
     "collapsed": false,
     "input": [
      "# generate evaluation metrics\n",
      "print metrics.accuracy_score(y_test, predicted)\n",
      "print metrics.roc_auc_score(y_test, predicted)"
     ],
     "language": "python",
     "metadata": {},
     "outputs": [
      {
       "output_type": "stream",
       "stream": "stdout",
       "text": [
        "0.729842931937\n",
        "0.633917926063\n"
       ]
      }
     ],
     "prompt_number": 19
    },
    {
     "cell_type": "markdown",
     "metadata": {},
     "source": [
      "The accuracy is 73%, which is the same as we experienced when training and predicting on the same data.\n",
      "\n",
      "We can also see the confusion matrix and a classification report with other metrics."
     ]
    },
    {
     "cell_type": "code",
     "collapsed": false,
     "input": [
      "print metrics.confusion_matrix(y_test, predicted)\n",
      "print metrics.classification_report(y_test, predicted)"
     ],
     "language": "python",
     "metadata": {},
     "outputs": [
      {
       "output_type": "stream",
       "stream": "stdout",
       "text": [
        "[[1169  134]\n",
        " [ 382  225]]\n",
        "             precision    recall  f1-score   support\n",
        "\n",
        "        0.0       0.75      0.90      0.82      1303\n",
        "        1.0       0.63      0.37      0.47       607\n",
        "\n",
        "avg / total       0.71      0.73      0.71      1910\n",
        "\n"
       ]
      }
     ],
     "prompt_number": 20
    },
    {
     "cell_type": "markdown",
     "metadata": {},
     "source": [
      "## Model Evaluation Using Cross-Validation\n",
      "\n",
      "Now let's try 10-fold cross-validation, to see if the accuracy holds up more rigorously."
     ]
    },
    {
     "cell_type": "code",
     "collapsed": false,
     "input": [
      "# evaluate the model using 10-fold cross-validation\n",
      "scores = cross_val_score(LogisticRegression(), X, y, scoring='accuracy', cv=10)\n",
      "print scores\n",
      "print scores.mean()"
     ],
     "language": "python",
     "metadata": {},
     "outputs": [
      {
       "output_type": "stream",
       "stream": "stdout",
       "text": [
        "[ 0.71271586  0.71899529  0.73940345  0.73940345  0.70957614  0.72213501\n",
        "  0.72641509  0.73742138  0.71698113  0.72798742]\n",
        "0.725103423082\n"
       ]
      }
     ],
     "prompt_number": 21
    },
    {
     "cell_type": "markdown",
     "metadata": {},
     "source": [
      "Looks good. It's still performing at 73% accuracy."
     ]
    },
    {
     "cell_type": "markdown",
     "metadata": {},
     "source": [
      "## Predicting the Probability of an Affair\n",
      "\n",
      "Just for fun, let's predict the probability of an affair for a random woman not present in the dataset. She's a 25-year-old teacher who graduated college, has been married for 3 years, has 1 child, rates herself as strongly religious, rates her marriage as fair, and her husband is a farmer."
     ]
    },
    {
     "cell_type": "code",
     "collapsed": false,
     "input": [
      "model.predict_proba(np.array([1, 0, 0, 1, 0, 0, 1, 0, 0, 0, 0, 3, 25, 3, 1, 4,\n",
      "                              16]))"
     ],
     "language": "python",
     "metadata": {},
     "outputs": [
      {
       "metadata": {},
       "output_type": "pyout",
       "prompt_number": 22,
       "text": [
        "array([[ 0.77472334,  0.22527666]])"
       ]
      }
     ],
     "prompt_number": 22
    },
    {
     "cell_type": "markdown",
     "metadata": {},
     "source": [
      "The predicted probability of an affair is 23%."
     ]
    },
    {
     "cell_type": "markdown",
     "metadata": {},
     "source": [
      "## Next Steps\n",
      "\n",
      "There are many different steps that could be tried in order to improve the model:\n",
      "\n",
      "* including interaction terms\n",
      "* removing features\n",
      "* regularization techniques\n",
      "* using a non-linear model"
     ]
    }
   ],
   "metadata": {}
  }
 ]
}