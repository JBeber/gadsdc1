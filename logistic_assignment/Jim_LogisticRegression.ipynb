{
 "metadata": {
  "name": "LogisticRegression"
 },
 "nbformat": 3,
 "nbformat_minor": 0,
 "worksheets": [
  {
   "cells": [
    {
     "cell_type": "code",
     "collapsed": false,
     "input": "import pandas as pd\nimport numpy as np\nfrom sklearn.preprocessing import LabelBinarizer as LB\nfrom sklearn.linear_model import LogisticRegression as LR\nfrom sklearn import cross_validation\nfrom sklearn.pipeline import Pipeline",
     "language": "python",
     "metadata": {},
     "outputs": [],
     "prompt_number": 4
    },
    {
     "cell_type": "markdown",
     "metadata": {},
     "source": "First, we load the data"
    },
    {
     "cell_type": "code",
     "collapsed": false,
     "input": "train = pd.read_csv(\"https://raw.githubusercontent.com/ajschumacher/gadsdata/master/lemons/train.csv\")",
     "language": "python",
     "metadata": {},
     "outputs": [],
     "prompt_number": 5
    },
    {
     "cell_type": "code",
     "collapsed": false,
     "input": "test = pd.read_csv('https://raw.githubusercontent.com/ajschumacher/gadsdata/master/lemons/test.csv')",
     "language": "python",
     "metadata": {},
     "outputs": [],
     "prompt_number": 6
    },
    {
     "cell_type": "code",
     "collapsed": false,
     "input": "print train.Auction",
     "language": "python",
     "metadata": {},
     "outputs": [
      {
       "output_type": "stream",
       "stream": "stdout",
       "text": "0     ADESA\n1     ADESA\n2     ADESA\n3     ADESA\n4     ADESA\n5     ADESA\n6     ADESA\n7     ADESA\n8     ADESA\n9     ADESA\n10    ADESA\n11    ADESA\n12    ADESA\n13    ADESA\n14    ADESA\n...\n64968    ADESA\n64969    ADESA\n64970    ADESA\n64971    ADESA\n64972    ADESA\n64973    ADESA\n64974    ADESA\n64975    ADESA\n64976    ADESA\n64977    ADESA\n64978    ADESA\n64979    ADESA\n64980    ADESA\n64981    ADESA\n64982    ADESA\nName: Auction, Length: 64983, dtype: object\n"
      }
     ],
     "prompt_number": 114
    },
    {
     "cell_type": "markdown",
     "metadata": {},
     "source": "We'll also do a little feature engineering regarding the difference between average retail price and auction price, in case this is an important red flag."
    },
    {
     "cell_type": "code",
     "collapsed": false,
     "input": "train['price_diff'] = train['MMRAcquisitionAuctionAveragePrice'] - train['VehBCost']\ntest['price_diff'] = test['MMRAcquisitionAuctionAveragePrice'] - test['VehBCost']\nfor elem in train['Auction'].unique():\n    train[str(elem)] = train['Auction'] == elem",
     "language": "python",
     "metadata": {},
     "outputs": [],
     "prompt_number": 123
    },
    {
     "cell_type": "markdown",
     "metadata": {},
     "source": "There's missing values in the data set, I'm just going to use mean to impute their values."
    },
    {
     "cell_type": "code",
     "collapsed": false,
     "input": "test = test.fillna(test.mean())\ntrain = train.fillna(train.mean())",
     "language": "python",
     "metadata": {},
     "outputs": [],
     "prompt_number": 8
    },
    {
     "cell_type": "markdown",
     "metadata": {},
     "source": "Let's investigate it a bit!"
    },
    {
     "cell_type": "code",
     "collapsed": false,
     "input": "print train.shape\nprint test.shape\nprint train.dtypes",
     "language": "python",
     "metadata": {},
     "outputs": [
      {
       "output_type": "stream",
       "stream": "stdout",
       "text": "(64983, 38)\n(8000, 34)\nRefId                                  int64\nIsBadBuy                               int64\nPurchDate                             object\nAuction                               object\nVehYear                                int64\nVehicleAge                             int64\nMake                                  object\nModel                                 object\nTrim                                  object\nSubModel                              object\nColor                                 object\nTransmission                          object\nWheelTypeID                          float64\nWheelType                             object\nVehOdo                                 int64\nNationality                           object\nSize                                  object\nTopThreeAmericanName                  object\nMMRAcquisitionAuctionAveragePrice    float64\nMMRAcquisitionAuctionCleanPrice      float64\nMMRAcquisitionRetailAveragePrice     float64\nMMRAcquisitonRetailCleanPrice        float64\nMMRCurrentAuctionAveragePrice        float64\nMMRCurrentAuctionCleanPrice          float64\nMMRCurrentRetailAveragePrice         float64\nMMRCurrentRetailCleanPrice           float64\nPRIMEUNIT                             object\nAUCGUART                              object\nBYRNO                                  int64\nVNZIP1                                 int64\nVNST                                  object\nVehBCost                             float64\nIsOnlineSale                           int64\nWarrantyCost                           int64\nprice_diff                           float64\nADESA                                   bool\nOTHER                                   bool\nMANHEIM                                 bool\ndtype: object\n"
      }
     ],
     "prompt_number": 124
    },
    {
     "cell_type": "markdown",
     "metadata": {},
     "source": "These are baffling. Fortunately, there's a data dictionary [https://github.com/ajschumacher/gadsdata/blob/master/lemons/data_dictionary.csv] included."
    },
    {
     "cell_type": "markdown",
     "metadata": {},
     "source": "Ok--so it looks like the original kaggle competition attempted to predict whether or not a car would be a \"Kick\" or not. Looks like that \ncorresponsds to the 'IsBadBuy' column."
    },
    {
     "cell_type": "code",
     "collapsed": false,
     "input": "labels = train.IsBadBuy\nX = train.drop('IsBadBuy', 1)\nX.shape",
     "language": "python",
     "metadata": {},
     "outputs": [
      {
       "metadata": {},
       "output_type": "pyout",
       "prompt_number": 127,
       "text": "(64983, 37)"
      }
     ],
     "prompt_number": 127
    },
    {
     "cell_type": "code",
     "collapsed": false,
     "input": "labels.plot(kind='density')",
     "language": "python",
     "metadata": {},
     "outputs": [
      {
       "metadata": {},
       "output_type": "pyout",
       "prompt_number": 128,
       "text": "<matplotlib.axes.AxesSubplot at 0x10c522b0>"
      },
      {
       "metadata": {},
       "output_type": "display_data",
       "png": "[encoded data removed]",
       "text": "<matplotlib.figure.Figure at 0x10c50fd0>"
      }
     ],
     "prompt_number": 128
    },
    {
     "cell_type": "code",
     "collapsed": false,
     "input": "mean(train['IsBadBuy']==0)",
     "language": "python",
     "metadata": {},
     "outputs": [
      {
       "metadata": {},
       "output_type": "pyout",
       "prompt_number": 129,
       "text": "0.87678315867226808"
      }
     ],
     "prompt_number": 129
    },
    {
     "cell_type": "markdown",
     "metadata": {},
     "source": "Let's keep this as a baseline for how our model is doing. at worst, it should\ndo as well as guessing that a car is not a bad buy"
    },
    {
     "cell_type": "markdown",
     "metadata": {},
     "source": "We can use the pandas concat function to compress our columns into the array structure that sklearn will be expecting. "
    },
    {
     "cell_type": "code",
     "collapsed": false,
     "input": "X_1 = pd.concat([\n                 X['VehicleAge'], X['VehOdo'], X['IsOnlineSale'], X['WarrantyCost'], X['price_diff'],\n                 X['MMRAcquisitionAuctionAveragePrice'], X['MMRAcquisitionRetailAveragePrice'], X['OTHER'],\n                 X['ADESA'], X['MANHEIM']\n                 ], axis=1)",
     "language": "python",
     "metadata": {},
     "outputs": [],
     "prompt_number": 139
    },
    {
     "cell_type": "markdown",
     "metadata": {},
     "source": "Now we can use sklearns cross validation splitter to create test and training splits of our test data so that we can get a handle on generalization error."
    },
    {
     "cell_type": "code",
     "collapsed": false,
     "input": "X_train_1, X_test_1, y_train_1, y_test_1 = cross_validation.train_test_split(X_1, labels, test_size=0.1)\n",
     "language": "python",
     "metadata": {},
     "outputs": [],
     "prompt_number": 157
    },
    {
     "cell_type": "markdown",
     "metadata": {},
     "source": "And now we can instantiate the model, fit it, and see how it does on the test data."
    },
    {
     "cell_type": "code",
     "collapsed": false,
     "input": "m = LR(penalty = 'l1', fit_intercept=False, C=1)",
     "language": "python",
     "metadata": {},
     "outputs": [],
     "prompt_number": 158
    },
    {
     "cell_type": "code",
     "collapsed": false,
     "input": "m.fit(X_train_1, y_train_1)",
     "language": "python",
     "metadata": {},
     "outputs": [
      {
       "metadata": {},
       "output_type": "pyout",
       "prompt_number": 159,
       "text": "LogisticRegression(C=1, class_weight=None, dual=False, fit_intercept=False,\n          intercept_scaling=1, penalty='l1', random_state=None, tol=0.0001)"
      }
     ],
     "prompt_number": 159
    },
    {
     "cell_type": "code",
     "collapsed": false,
     "input": "#examine what lasso thinks are important features\nm.coef_",
     "language": "python",
     "metadata": {},
     "outputs": [
      {
       "metadata": {},
       "output_type": "pyout",
       "prompt_number": 160,
       "text": "array([[  2.81227210e-01,   6.93394954e-06,  -8.06052438e-03,\n         -3.60770987e-05,   1.53750128e-04,  -1.21452338e-04,\n          3.06775852e-05,  -3.02308211e+00,  -2.90862828e+00,\n         -3.25004874e+00]])"
      }
     ],
     "prompt_number": 160
    },
    {
     "cell_type": "code",
     "collapsed": false,
     "input": "cross_validation.cross_val_score(m, X_test_1, y_test_1)",
     "language": "python",
     "metadata": {},
     "outputs": [
      {
       "metadata": {},
       "output_type": "pyout",
       "prompt_number": 161,
       "text": "array([ 0.87171204,  0.8721145 ,  0.87165282])"
      }
     ],
     "prompt_number": 161
    },
    {
     "cell_type": "markdown",
     "metadata": {},
     "source": "Basically no improvement."
    },
    {
     "cell_type": "code",
     "collapsed": false,
     "input": "for each_item in m.predict(X_test_1):\n    if each_item == 1:\n        print each_item",
     "language": "python",
     "metadata": {},
     "outputs": [
      {
       "output_type": "stream",
       "stream": "stdout",
       "text": "1\n"
      }
     ],
     "prompt_number": 150
    },
    {
     "cell_type": "markdown",
     "metadata": {},
     "source": "The model predicts that one thing is a bad buy. "
    }
   ],
   "metadata": {}
  }
 ]
}