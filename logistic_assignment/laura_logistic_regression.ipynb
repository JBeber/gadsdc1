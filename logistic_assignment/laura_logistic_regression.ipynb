{
 "metadata": {
  "name": ""
 },
 "nbformat": 3,
 "nbformat_minor": 0,
 "worksheets": [
  {
   "cells": [
    {
     "cell_type": "markdown",
     "metadata": {},
     "source": [
      "Lemons Logistic Regression\n",
      "===\n",
      "This notebook addresses the \"lemons\" dataset using logistic regression to predict the likelihood of a vehicle bought at an auction as being a \"lemon\".\n",
      "\n",
      "Preparing Data\n",
      "---\n",
      "First, I read the CSV using pandas so it arrives as a dataframe and inspect the columns."
     ]
    },
    {
     "cell_type": "code",
     "collapsed": false,
     "input": [
      "from sklearn.linear_model import LogisticRegression\n",
      "import numpy as np\n",
      "from sklearn import metrics"
     ],
     "language": "python",
     "metadata": {},
     "outputs": [],
     "prompt_number": 113
    },
    {
     "cell_type": "code",
     "collapsed": false,
     "input": [
      "import pandas as pd\n",
      "import patsy as pt"
     ],
     "language": "python",
     "metadata": {},
     "outputs": [],
     "prompt_number": 58
    },
    {
     "cell_type": "code",
     "collapsed": false,
     "input": [
      "train = pd.read_csv(\"/Users/dmig/Repos/git/gadsdata/lemons/train.csv\")"
     ],
     "language": "python",
     "metadata": {},
     "outputs": [],
     "prompt_number": 5
    },
    {
     "cell_type": "code",
     "collapsed": false,
     "input": [
      "train.head()"
     ],
     "language": "python",
     "metadata": {},
     "outputs": [
      {
       "html": [
        "<div style=\"max-height:1000px;max-width:1500px;overflow:auto;\">\n",
        "<table border=\"1\" class=\"dataframe\">\n",
        "  <thead>\n",
        "    <tr style=\"text-align: right;\">\n",
        "      <th></th>\n",
        "      <th>RefId</th>\n",
        "      <th>IsBadBuy</th>\n",
        "      <th>PurchDate</th>\n",
        "      <th>Auction</th>\n",
        "      <th>VehYear</th>\n",
        "      <th>VehicleAge</th>\n",
        "      <th>Make</th>\n",
        "      <th>Model</th>\n",
        "      <th>Trim</th>\n",
        "      <th>SubModel</th>\n",
        "      <th>Color</th>\n",
        "      <th>Transmission</th>\n",
        "      <th>WheelTypeID</th>\n",
        "      <th>WheelType</th>\n",
        "      <th>VehOdo</th>\n",
        "      <th>Nationality</th>\n",
        "      <th>Size</th>\n",
        "      <th>TopThreeAmericanName</th>\n",
        "      <th>MMRAcquisitionAuctionAveragePrice</th>\n",
        "      <th>MMRAcquisitionAuctionCleanPrice</th>\n",
        "      <th></th>\n",
        "    </tr>\n",
        "  </thead>\n",
        "  <tbody>\n",
        "    <tr>\n",
        "      <th>0</th>\n",
        "      <td> 1</td>\n",
        "      <td> 0</td>\n",
        "      <td> 12/7/2009</td>\n",
        "      <td> ADESA</td>\n",
        "      <td> 2006</td>\n",
        "      <td> 3</td>\n",
        "      <td> MAZDA</td>\n",
        "      <td>              MAZDA3</td>\n",
        "      <td>   i</td>\n",
        "      <td>        4D SEDAN I</td>\n",
        "      <td>    RED</td>\n",
        "      <td>   AUTO</td>\n",
        "      <td> 1</td>\n",
        "      <td>  Alloy</td>\n",
        "      <td> 89046</td>\n",
        "      <td> OTHER ASIAN</td>\n",
        "      <td>      MEDIUM</td>\n",
        "      <td>    OTHER</td>\n",
        "      <td> 8155</td>\n",
        "      <td> 9829</td>\n",
        "      <td>...</td>\n",
        "    </tr>\n",
        "    <tr>\n",
        "      <th>1</th>\n",
        "      <td> 2</td>\n",
        "      <td> 0</td>\n",
        "      <td> 12/7/2009</td>\n",
        "      <td> ADESA</td>\n",
        "      <td> 2004</td>\n",
        "      <td> 5</td>\n",
        "      <td> DODGE</td>\n",
        "      <td> 1500 RAM PICKUP 2WD</td>\n",
        "      <td>  ST</td>\n",
        "      <td> QUAD CAB 4.7L SLT</td>\n",
        "      <td>  WHITE</td>\n",
        "      <td>   AUTO</td>\n",
        "      <td> 1</td>\n",
        "      <td>  Alloy</td>\n",
        "      <td> 93593</td>\n",
        "      <td>    AMERICAN</td>\n",
        "      <td> LARGE TRUCK</td>\n",
        "      <td> CHRYSLER</td>\n",
        "      <td> 6854</td>\n",
        "      <td> 8383</td>\n",
        "      <td>...</td>\n",
        "    </tr>\n",
        "    <tr>\n",
        "      <th>2</th>\n",
        "      <td> 3</td>\n",
        "      <td> 0</td>\n",
        "      <td> 12/7/2009</td>\n",
        "      <td> ADESA</td>\n",
        "      <td> 2005</td>\n",
        "      <td> 4</td>\n",
        "      <td> DODGE</td>\n",
        "      <td>          STRATUS V6</td>\n",
        "      <td> SXT</td>\n",
        "      <td>  4D SEDAN SXT FFV</td>\n",
        "      <td> MAROON</td>\n",
        "      <td>   AUTO</td>\n",
        "      <td> 2</td>\n",
        "      <td> Covers</td>\n",
        "      <td> 73807</td>\n",
        "      <td>    AMERICAN</td>\n",
        "      <td>      MEDIUM</td>\n",
        "      <td> CHRYSLER</td>\n",
        "      <td> 3202</td>\n",
        "      <td> 4760</td>\n",
        "      <td>...</td>\n",
        "    </tr>\n",
        "    <tr>\n",
        "      <th>3</th>\n",
        "      <td> 4</td>\n",
        "      <td> 0</td>\n",
        "      <td> 12/7/2009</td>\n",
        "      <td> ADESA</td>\n",
        "      <td> 2004</td>\n",
        "      <td> 5</td>\n",
        "      <td> DODGE</td>\n",
        "      <td>                NEON</td>\n",
        "      <td> SXT</td>\n",
        "      <td>          4D SEDAN</td>\n",
        "      <td> SILVER</td>\n",
        "      <td>   AUTO</td>\n",
        "      <td> 1</td>\n",
        "      <td>  Alloy</td>\n",
        "      <td> 65617</td>\n",
        "      <td>    AMERICAN</td>\n",
        "      <td>     COMPACT</td>\n",
        "      <td> CHRYSLER</td>\n",
        "      <td> 1893</td>\n",
        "      <td> 2675</td>\n",
        "      <td>...</td>\n",
        "    </tr>\n",
        "    <tr>\n",
        "      <th>4</th>\n",
        "      <td> 5</td>\n",
        "      <td> 0</td>\n",
        "      <td> 12/7/2009</td>\n",
        "      <td> ADESA</td>\n",
        "      <td> 2005</td>\n",
        "      <td> 4</td>\n",
        "      <td>  FORD</td>\n",
        "      <td>               FOCUS</td>\n",
        "      <td> ZX3</td>\n",
        "      <td>      2D COUPE ZX3</td>\n",
        "      <td> SILVER</td>\n",
        "      <td> MANUAL</td>\n",
        "      <td> 2</td>\n",
        "      <td> Covers</td>\n",
        "      <td> 69367</td>\n",
        "      <td>    AMERICAN</td>\n",
        "      <td>     COMPACT</td>\n",
        "      <td>     FORD</td>\n",
        "      <td> 3913</td>\n",
        "      <td> 5054</td>\n",
        "      <td>...</td>\n",
        "    </tr>\n",
        "  </tbody>\n",
        "</table>\n",
        "<p>5 rows \u00d7 34 columns</p>\n",
        "</div>"
       ],
       "metadata": {},
       "output_type": "pyout",
       "prompt_number": 84,
       "text": [
        "   RefId  IsBadBuy  PurchDate Auction  VehYear  VehicleAge   Make  \\\n",
        "0      1         0  12/7/2009   ADESA     2006           3  MAZDA   \n",
        "1      2         0  12/7/2009   ADESA     2004           5  DODGE   \n",
        "2      3         0  12/7/2009   ADESA     2005           4  DODGE   \n",
        "3      4         0  12/7/2009   ADESA     2004           5  DODGE   \n",
        "4      5         0  12/7/2009   ADESA     2005           4   FORD   \n",
        "\n",
        "                 Model Trim           SubModel   Color Transmission  \\\n",
        "0               MAZDA3    i         4D SEDAN I     RED         AUTO   \n",
        "1  1500 RAM PICKUP 2WD   ST  QUAD CAB 4.7L SLT   WHITE         AUTO   \n",
        "2           STRATUS V6  SXT   4D SEDAN SXT FFV  MAROON         AUTO   \n",
        "3                 NEON  SXT           4D SEDAN  SILVER         AUTO   \n",
        "4                FOCUS  ZX3       2D COUPE ZX3  SILVER       MANUAL   \n",
        "\n",
        "   WheelTypeID WheelType  VehOdo  Nationality         Size  \\\n",
        "0            1     Alloy   89046  OTHER ASIAN       MEDIUM   \n",
        "1            1     Alloy   93593     AMERICAN  LARGE TRUCK   \n",
        "2            2    Covers   73807     AMERICAN       MEDIUM   \n",
        "3            1     Alloy   65617     AMERICAN      COMPACT   \n",
        "4            2    Covers   69367     AMERICAN      COMPACT   \n",
        "\n",
        "  TopThreeAmericanName  MMRAcquisitionAuctionAveragePrice  \\\n",
        "0                OTHER                               8155   \n",
        "1             CHRYSLER                               6854   \n",
        "2             CHRYSLER                               3202   \n",
        "3             CHRYSLER                               1893   \n",
        "4                 FORD                               3913   \n",
        "\n",
        "   MMRAcquisitionAuctionCleanPrice      \n",
        "0                             9829 ...  \n",
        "1                             8383 ...  \n",
        "2                             4760 ...  \n",
        "3                             2675 ...  \n",
        "4                             5054 ...  \n",
        "\n",
        "[5 rows x 34 columns]"
       ]
      }
     ],
     "prompt_number": 84
    },
    {
     "cell_type": "markdown",
     "metadata": {},
     "source": [
      "The dataset is made up of [0] a row identifier, [1] the row label as a bad buy (1) and a good buy (0), [2:33] 34 other variables that describe the car including price analysis at auction, acquisition, and retail, car details such as transmission type, make and model, or color, car brand nationality and whether it is one of the top 3 American brand names, whether it was an online sale, and 3 unknown columns \"PRIMEUNIT\", \"AUCGUART\", \"BYRNO\"."
     ]
    },
    {
     "cell_type": "code",
     "collapsed": false,
     "input": [
      "train.ix[:,20:].head()"
     ],
     "language": "python",
     "metadata": {},
     "outputs": [
      {
       "html": [
        "<div style=\"max-height:1000px;max-width:1500px;overflow:auto;\">\n",
        "<table border=\"1\" class=\"dataframe\">\n",
        "  <thead>\n",
        "    <tr style=\"text-align: right;\">\n",
        "      <th></th>\n",
        "      <th>MMRAcquisitionRetailAveragePrice</th>\n",
        "      <th>MMRAcquisitonRetailCleanPrice</th>\n",
        "      <th>MMRCurrentAuctionAveragePrice</th>\n",
        "      <th>MMRCurrentAuctionCleanPrice</th>\n",
        "      <th>MMRCurrentRetailAveragePrice</th>\n",
        "      <th>MMRCurrentRetailCleanPrice</th>\n",
        "      <th>PRIMEUNIT</th>\n",
        "      <th>AUCGUART</th>\n",
        "      <th>BYRNO</th>\n",
        "      <th>VNZIP1</th>\n",
        "      <th>VNST</th>\n",
        "      <th>VehBCost</th>\n",
        "      <th>IsOnlineSale</th>\n",
        "      <th>WarrantyCost</th>\n",
        "    </tr>\n",
        "  </thead>\n",
        "  <tbody>\n",
        "    <tr>\n",
        "      <th>0</th>\n",
        "      <td> 11636</td>\n",
        "      <td> 13600</td>\n",
        "      <td> 7451</td>\n",
        "      <td> 8552</td>\n",
        "      <td> 11597</td>\n",
        "      <td> 12409</td>\n",
        "      <td> NaN</td>\n",
        "      <td> NaN</td>\n",
        "      <td> 21973</td>\n",
        "      <td> 33619</td>\n",
        "      <td> FL</td>\n",
        "      <td> 7100</td>\n",
        "      <td> 0</td>\n",
        "      <td> 1113</td>\n",
        "    </tr>\n",
        "    <tr>\n",
        "      <th>1</th>\n",
        "      <td> 10897</td>\n",
        "      <td> 12572</td>\n",
        "      <td> 7456</td>\n",
        "      <td> 9222</td>\n",
        "      <td> 11374</td>\n",
        "      <td> 12791</td>\n",
        "      <td> NaN</td>\n",
        "      <td> NaN</td>\n",
        "      <td> 19638</td>\n",
        "      <td> 33619</td>\n",
        "      <td> FL</td>\n",
        "      <td> 7600</td>\n",
        "      <td> 0</td>\n",
        "      <td> 1053</td>\n",
        "    </tr>\n",
        "    <tr>\n",
        "      <th>2</th>\n",
        "      <td>  6943</td>\n",
        "      <td>  8457</td>\n",
        "      <td> 4035</td>\n",
        "      <td> 5557</td>\n",
        "      <td>  7146</td>\n",
        "      <td>  8702</td>\n",
        "      <td> NaN</td>\n",
        "      <td> NaN</td>\n",
        "      <td> 19638</td>\n",
        "      <td> 33619</td>\n",
        "      <td> FL</td>\n",
        "      <td> 4900</td>\n",
        "      <td> 0</td>\n",
        "      <td> 1389</td>\n",
        "    </tr>\n",
        "    <tr>\n",
        "      <th>3</th>\n",
        "      <td>  4658</td>\n",
        "      <td>  5690</td>\n",
        "      <td> 1844</td>\n",
        "      <td> 2646</td>\n",
        "      <td>  4375</td>\n",
        "      <td>  5518</td>\n",
        "      <td> NaN</td>\n",
        "      <td> NaN</td>\n",
        "      <td> 19638</td>\n",
        "      <td> 33619</td>\n",
        "      <td> FL</td>\n",
        "      <td> 4100</td>\n",
        "      <td> 0</td>\n",
        "      <td>  630</td>\n",
        "    </tr>\n",
        "    <tr>\n",
        "      <th>4</th>\n",
        "      <td>  7723</td>\n",
        "      <td>  8707</td>\n",
        "      <td> 3247</td>\n",
        "      <td> 4384</td>\n",
        "      <td>  6739</td>\n",
        "      <td>  7911</td>\n",
        "      <td> NaN</td>\n",
        "      <td> NaN</td>\n",
        "      <td> 19638</td>\n",
        "      <td> 33619</td>\n",
        "      <td> FL</td>\n",
        "      <td> 4000</td>\n",
        "      <td> 0</td>\n",
        "      <td> 1020</td>\n",
        "    </tr>\n",
        "  </tbody>\n",
        "</table>\n",
        "<p>5 rows \u00d7 14 columns</p>\n",
        "</div>"
       ],
       "metadata": {},
       "output_type": "pyout",
       "prompt_number": 93,
       "text": [
        "   MMRAcquisitionRetailAveragePrice  MMRAcquisitonRetailCleanPrice  \\\n",
        "0                             11636                          13600   \n",
        "1                             10897                          12572   \n",
        "2                              6943                           8457   \n",
        "3                              4658                           5690   \n",
        "4                              7723                           8707   \n",
        "\n",
        "   MMRCurrentAuctionAveragePrice  MMRCurrentAuctionCleanPrice  \\\n",
        "0                           7451                         8552   \n",
        "1                           7456                         9222   \n",
        "2                           4035                         5557   \n",
        "3                           1844                         2646   \n",
        "4                           3247                         4384   \n",
        "\n",
        "   MMRCurrentRetailAveragePrice  MMRCurrentRetailCleanPrice PRIMEUNIT  \\\n",
        "0                         11597                       12409       NaN   \n",
        "1                         11374                       12791       NaN   \n",
        "2                          7146                        8702       NaN   \n",
        "3                          4375                        5518       NaN   \n",
        "4                          6739                        7911       NaN   \n",
        "\n",
        "  AUCGUART  BYRNO  VNZIP1 VNST  VehBCost  IsOnlineSale  WarrantyCost  \n",
        "0      NaN  21973   33619   FL      7100             0          1113  \n",
        "1      NaN  19638   33619   FL      7600             0          1053  \n",
        "2      NaN  19638   33619   FL      4900             0          1389  \n",
        "3      NaN  19638   33619   FL      4100             0           630  \n",
        "4      NaN  19638   33619   FL      4000             0          1020  \n",
        "\n",
        "[5 rows x 14 columns]"
       ]
      }
     ],
     "prompt_number": 93
    },
    {
     "cell_type": "code",
     "collapsed": false,
     "input": [
      "train.dtypes"
     ],
     "language": "python",
     "metadata": {},
     "outputs": [
      {
       "metadata": {},
       "output_type": "pyout",
       "prompt_number": 81,
       "text": [
        "RefId                                  int64\n",
        "IsBadBuy                               int64\n",
        "PurchDate                             object\n",
        "Auction                               object\n",
        "VehYear                                int64\n",
        "VehicleAge                             int64\n",
        "Make                                  object\n",
        "Model                                 object\n",
        "Trim                                  object\n",
        "SubModel                              object\n",
        "Color                                 object\n",
        "Transmission                          object\n",
        "WheelTypeID                          float64\n",
        "WheelType                             object\n",
        "VehOdo                                 int64\n",
        "Nationality                           object\n",
        "Size                                  object\n",
        "TopThreeAmericanName                  object\n",
        "MMRAcquisitionAuctionAveragePrice    float64\n",
        "MMRAcquisitionAuctionCleanPrice      float64\n",
        "MMRAcquisitionRetailAveragePrice     float64\n",
        "MMRAcquisitonRetailCleanPrice        float64\n",
        "MMRCurrentAuctionAveragePrice        float64\n",
        "MMRCurrentAuctionCleanPrice          float64\n",
        "MMRCurrentRetailAveragePrice         float64\n",
        "MMRCurrentRetailCleanPrice           float64\n",
        "PRIMEUNIT                             object\n",
        "AUCGUART                              object\n",
        "BYRNO                                  int64\n",
        "VNZIP1                                 int64\n",
        "VNST                                  object\n",
        "VehBCost                             float64\n",
        "IsOnlineSale                           int64\n",
        "WarrantyCost                           int64\n",
        "dtype: object"
       ]
      }
     ],
     "prompt_number": 81
    },
    {
     "cell_type": "markdown",
     "metadata": {},
     "source": [
      "Now I must cut up the data into the features I want to use and the labels for use by the logistic regression model. I use the ``patsy`` method ``dmatrices`` to use R formula notation to derive the features (x) and labels (y)."
     ]
    },
    {
     "cell_type": "code",
     "collapsed": false,
     "input": [
      "y, x= pt.dmatrices('IsBadBuy ~ VehicleAge', train, return_type='dataframe')"
     ],
     "language": "python",
     "metadata": {},
     "outputs": [],
     "prompt_number": 61
    },
    {
     "cell_type": "code",
     "collapsed": false,
     "input": [
      "y.head()"
     ],
     "language": "python",
     "metadata": {},
     "outputs": [
      {
       "html": [
        "<div style=\"max-height:1000px;max-width:1500px;overflow:auto;\">\n",
        "<table border=\"1\" class=\"dataframe\">\n",
        "  <thead>\n",
        "    <tr style=\"text-align: right;\">\n",
        "      <th></th>\n",
        "      <th>IsBadBuy</th>\n",
        "    </tr>\n",
        "  </thead>\n",
        "  <tbody>\n",
        "    <tr>\n",
        "      <th>0</th>\n",
        "      <td> 0</td>\n",
        "    </tr>\n",
        "    <tr>\n",
        "      <th>1</th>\n",
        "      <td> 0</td>\n",
        "    </tr>\n",
        "    <tr>\n",
        "      <th>2</th>\n",
        "      <td> 0</td>\n",
        "    </tr>\n",
        "    <tr>\n",
        "      <th>3</th>\n",
        "      <td> 0</td>\n",
        "    </tr>\n",
        "    <tr>\n",
        "      <th>4</th>\n",
        "      <td> 0</td>\n",
        "    </tr>\n",
        "  </tbody>\n",
        "</table>\n",
        "<p>5 rows \u00d7 1 columns</p>\n",
        "</div>"
       ],
       "metadata": {},
       "output_type": "pyout",
       "prompt_number": 62,
       "text": [
        "   IsBadBuy\n",
        "0         0\n",
        "1         0\n",
        "2         0\n",
        "3         0\n",
        "4         0\n",
        "\n",
        "[5 rows x 1 columns]"
       ]
      }
     ],
     "prompt_number": 62
    },
    {
     "cell_type": "code",
     "collapsed": false,
     "input": [
      "x.head()"
     ],
     "language": "python",
     "metadata": {},
     "outputs": [
      {
       "html": [
        "<div style=\"max-height:1000px;max-width:1500px;overflow:auto;\">\n",
        "<table border=\"1\" class=\"dataframe\">\n",
        "  <thead>\n",
        "    <tr style=\"text-align: right;\">\n",
        "      <th></th>\n",
        "      <th>Intercept</th>\n",
        "      <th>VehicleAge</th>\n",
        "    </tr>\n",
        "  </thead>\n",
        "  <tbody>\n",
        "    <tr>\n",
        "      <th>0</th>\n",
        "      <td> 1</td>\n",
        "      <td> 3</td>\n",
        "    </tr>\n",
        "    <tr>\n",
        "      <th>1</th>\n",
        "      <td> 1</td>\n",
        "      <td> 5</td>\n",
        "    </tr>\n",
        "    <tr>\n",
        "      <th>2</th>\n",
        "      <td> 1</td>\n",
        "      <td> 4</td>\n",
        "    </tr>\n",
        "    <tr>\n",
        "      <th>3</th>\n",
        "      <td> 1</td>\n",
        "      <td> 5</td>\n",
        "    </tr>\n",
        "    <tr>\n",
        "      <th>4</th>\n",
        "      <td> 1</td>\n",
        "      <td> 4</td>\n",
        "    </tr>\n",
        "  </tbody>\n",
        "</table>\n",
        "<p>5 rows \u00d7 2 columns</p>\n",
        "</div>"
       ],
       "metadata": {},
       "output_type": "pyout",
       "prompt_number": 63,
       "text": [
        "   Intercept  VehicleAge\n",
        "0          1           3\n",
        "1          1           5\n",
        "2          1           4\n",
        "3          1           5\n",
        "4          1           4\n",
        "\n",
        "[5 rows x 2 columns]"
       ]
      }
     ],
     "prompt_number": 63
    },
    {
     "cell_type": "markdown",
     "metadata": {},
     "source": [
      "Logistic Regression\n",
      "---\n",
      "Now I use the LogisticRegression class to generate a default logistic regression and fit it to my training data. Note I use ``np.ravel()`` to flatten my y dataframe so it looks the way ``fit()`` wants it to."
     ]
    },
    {
     "cell_type": "code",
     "collapsed": false,
     "input": [
      "clf = LogisticRegression()"
     ],
     "language": "python",
     "metadata": {},
     "outputs": []
    },
    {
     "cell_type": "code",
     "collapsed": false,
     "input": [
      "clf.fit(x, np.ravel(y))"
     ],
     "language": "python",
     "metadata": {},
     "outputs": [
      {
       "metadata": {},
       "output_type": "pyout",
       "prompt_number": 69,
       "text": [
        "LogisticRegression(C=1.0, class_weight=None, dual=False, fit_intercept=True,\n",
        "          intercept_scaling=1, penalty='l2', random_state=None, tol=0.0001)"
       ]
      }
     ],
     "prompt_number": 69
    },
    {
     "cell_type": "code",
     "collapsed": false,
     "input": [
      "clf.score(x,y)"
     ],
     "language": "python",
     "metadata": {},
     "outputs": [
      {
       "metadata": {},
       "output_type": "pyout",
       "prompt_number": 70,
       "text": [
        "0.87678315867226808"
       ]
      }
     ],
     "prompt_number": 70
    },
    {
     "cell_type": "markdown",
     "metadata": {},
     "source": [
      "Looks like this simple regression is 87% effective on itself. I add another term, the car's acquisition price divided by it's auction price, as a ratio that represents how much you made off compared to how much the car was bought for."
     ]
    },
    {
     "cell_type": "code",
     "collapsed": false,
     "input": [
      "yy, xx = pt.dmatrices('IsBadBuy ~ VehicleAge + MMRAcquisitionAuctionCleanPrice/MMRCurrentAuctionCleanPrice', train, return_type='dataframe')"
     ],
     "language": "python",
     "metadata": {},
     "outputs": [],
     "prompt_number": 72
    },
    {
     "cell_type": "code",
     "collapsed": false,
     "input": [
      "clf.fit(xx, np.ravel(yy))"
     ],
     "language": "python",
     "metadata": {},
     "outputs": [
      {
       "metadata": {},
       "output_type": "pyout",
       "prompt_number": 73,
       "text": [
        "LogisticRegression(C=1.0, class_weight=None, dual=False, fit_intercept=True,\n",
        "          intercept_scaling=1, penalty='l2', random_state=None, tol=0.0001)"
       ]
      }
     ],
     "prompt_number": 73
    },
    {
     "cell_type": "code",
     "collapsed": false,
     "input": [
      "clf.score(xx,yy)"
     ],
     "language": "python",
     "metadata": {},
     "outputs": [
      {
       "metadata": {},
       "output_type": "pyout",
       "prompt_number": 74,
       "text": [
        "0.87665157392097171"
       ]
      }
     ],
     "prompt_number": 74
    },
    {
     "cell_type": "markdown",
     "metadata": {},
     "source": [
      "This actually didn't do much better, and we haven't even tried the testing data yet. Let's throw a few more variables in there."
     ]
    },
    {
     "cell_type": "code",
     "collapsed": false,
     "input": [
      "yyy,xxx = pt.dmatrices('IsBadBuy ~ VehicleAge + MMRAcquisitionAuctionCleanPrice/MMRCurrentAuctionCleanPrice + Make + Model + VehOdo + WheelTypeID', train, return_type='dataframe')"
     ],
     "language": "python",
     "metadata": {},
     "outputs": [],
     "prompt_number": 94
    },
    {
     "cell_type": "code",
     "collapsed": false,
     "input": [
      "xxx.head()"
     ],
     "language": "python",
     "metadata": {},
     "outputs": [
      {
       "html": [
        "<div style=\"max-height:1000px;max-width:1500px;overflow:auto;\">\n",
        "<table border=\"1\" class=\"dataframe\">\n",
        "  <thead>\n",
        "    <tr style=\"text-align: right;\">\n",
        "      <th></th>\n",
        "      <th>Intercept</th>\n",
        "      <th>Make[T.BUICK]</th>\n",
        "      <th>Make[T.CADILLAC]</th>\n",
        "      <th>Make[T.CHEVROLET]</th>\n",
        "      <th>Make[T.CHRYSLER]</th>\n",
        "      <th>Make[T.DODGE]</th>\n",
        "      <th>Make[T.FORD]</th>\n",
        "      <th>Make[T.GMC]</th>\n",
        "      <th>Make[T.HONDA]</th>\n",
        "      <th>Make[T.HUMMER]</th>\n",
        "      <th>Make[T.HYUNDAI]</th>\n",
        "      <th>Make[T.INFINITI]</th>\n",
        "      <th>Make[T.ISUZU]</th>\n",
        "      <th>Make[T.JEEP]</th>\n",
        "      <th>Make[T.KIA]</th>\n",
        "      <th>Make[T.LEXUS]</th>\n",
        "      <th>Make[T.LINCOLN]</th>\n",
        "      <th>Make[T.MAZDA]</th>\n",
        "      <th>Make[T.MERCURY]</th>\n",
        "      <th>Make[T.MINI]</th>\n",
        "      <th></th>\n",
        "    </tr>\n",
        "  </thead>\n",
        "  <tbody>\n",
        "    <tr>\n",
        "      <th>0</th>\n",
        "      <td> 1</td>\n",
        "      <td> 0</td>\n",
        "      <td> 0</td>\n",
        "      <td> 0</td>\n",
        "      <td> 0</td>\n",
        "      <td> 0</td>\n",
        "      <td> 0</td>\n",
        "      <td> 0</td>\n",
        "      <td> 0</td>\n",
        "      <td> 0</td>\n",
        "      <td> 0</td>\n",
        "      <td> 0</td>\n",
        "      <td> 0</td>\n",
        "      <td> 0</td>\n",
        "      <td> 0</td>\n",
        "      <td> 0</td>\n",
        "      <td> 0</td>\n",
        "      <td> 1</td>\n",
        "      <td> 0</td>\n",
        "      <td> 0</td>\n",
        "      <td>...</td>\n",
        "    </tr>\n",
        "    <tr>\n",
        "      <th>1</th>\n",
        "      <td> 1</td>\n",
        "      <td> 0</td>\n",
        "      <td> 0</td>\n",
        "      <td> 0</td>\n",
        "      <td> 0</td>\n",
        "      <td> 1</td>\n",
        "      <td> 0</td>\n",
        "      <td> 0</td>\n",
        "      <td> 0</td>\n",
        "      <td> 0</td>\n",
        "      <td> 0</td>\n",
        "      <td> 0</td>\n",
        "      <td> 0</td>\n",
        "      <td> 0</td>\n",
        "      <td> 0</td>\n",
        "      <td> 0</td>\n",
        "      <td> 0</td>\n",
        "      <td> 0</td>\n",
        "      <td> 0</td>\n",
        "      <td> 0</td>\n",
        "      <td>...</td>\n",
        "    </tr>\n",
        "    <tr>\n",
        "      <th>2</th>\n",
        "      <td> 1</td>\n",
        "      <td> 0</td>\n",
        "      <td> 0</td>\n",
        "      <td> 0</td>\n",
        "      <td> 0</td>\n",
        "      <td> 1</td>\n",
        "      <td> 0</td>\n",
        "      <td> 0</td>\n",
        "      <td> 0</td>\n",
        "      <td> 0</td>\n",
        "      <td> 0</td>\n",
        "      <td> 0</td>\n",
        "      <td> 0</td>\n",
        "      <td> 0</td>\n",
        "      <td> 0</td>\n",
        "      <td> 0</td>\n",
        "      <td> 0</td>\n",
        "      <td> 0</td>\n",
        "      <td> 0</td>\n",
        "      <td> 0</td>\n",
        "      <td>...</td>\n",
        "    </tr>\n",
        "    <tr>\n",
        "      <th>3</th>\n",
        "      <td> 1</td>\n",
        "      <td> 0</td>\n",
        "      <td> 0</td>\n",
        "      <td> 0</td>\n",
        "      <td> 0</td>\n",
        "      <td> 1</td>\n",
        "      <td> 0</td>\n",
        "      <td> 0</td>\n",
        "      <td> 0</td>\n",
        "      <td> 0</td>\n",
        "      <td> 0</td>\n",
        "      <td> 0</td>\n",
        "      <td> 0</td>\n",
        "      <td> 0</td>\n",
        "      <td> 0</td>\n",
        "      <td> 0</td>\n",
        "      <td> 0</td>\n",
        "      <td> 0</td>\n",
        "      <td> 0</td>\n",
        "      <td> 0</td>\n",
        "      <td>...</td>\n",
        "    </tr>\n",
        "    <tr>\n",
        "      <th>4</th>\n",
        "      <td> 1</td>\n",
        "      <td> 0</td>\n",
        "      <td> 0</td>\n",
        "      <td> 0</td>\n",
        "      <td> 0</td>\n",
        "      <td> 0</td>\n",
        "      <td> 1</td>\n",
        "      <td> 0</td>\n",
        "      <td> 0</td>\n",
        "      <td> 0</td>\n",
        "      <td> 0</td>\n",
        "      <td> 0</td>\n",
        "      <td> 0</td>\n",
        "      <td> 0</td>\n",
        "      <td> 0</td>\n",
        "      <td> 0</td>\n",
        "      <td> 0</td>\n",
        "      <td> 0</td>\n",
        "      <td> 0</td>\n",
        "      <td> 0</td>\n",
        "      <td>...</td>\n",
        "    </tr>\n",
        "  </tbody>\n",
        "</table>\n",
        "<p>5 rows \u00d7 1078 columns</p>\n",
        "</div>"
       ],
       "metadata": {},
       "output_type": "pyout",
       "prompt_number": 109,
       "text": [
        "   Intercept  Make[T.BUICK]  Make[T.CADILLAC]  Make[T.CHEVROLET]  \\\n",
        "0          1              0                 0                  0   \n",
        "1          1              0                 0                  0   \n",
        "2          1              0                 0                  0   \n",
        "3          1              0                 0                  0   \n",
        "4          1              0                 0                  0   \n",
        "\n",
        "   Make[T.CHRYSLER]  Make[T.DODGE]  Make[T.FORD]  Make[T.GMC]  Make[T.HONDA]  \\\n",
        "0                 0              0             0            0              0   \n",
        "1                 0              1             0            0              0   \n",
        "2                 0              1             0            0              0   \n",
        "3                 0              1             0            0              0   \n",
        "4                 0              0             1            0              0   \n",
        "\n",
        "   Make[T.HUMMER]  Make[T.HYUNDAI]  Make[T.INFINITI]  Make[T.ISUZU]  \\\n",
        "0               0                0                 0              0   \n",
        "1               0                0                 0              0   \n",
        "2               0                0                 0              0   \n",
        "3               0                0                 0              0   \n",
        "4               0                0                 0              0   \n",
        "\n",
        "   Make[T.JEEP]  Make[T.KIA]  Make[T.LEXUS]  Make[T.LINCOLN]  Make[T.MAZDA]  \\\n",
        "0             0            0              0                0              1   \n",
        "1             0            0              0                0              0   \n",
        "2             0            0              0                0              0   \n",
        "3             0            0              0                0              0   \n",
        "4             0            0              0                0              0   \n",
        "\n",
        "   Make[T.MERCURY]  Make[T.MINI]      \n",
        "0                0             0 ...  \n",
        "1                0             0 ...  \n",
        "2                0             0 ...  \n",
        "3                0             0 ...  \n",
        "4                0             0 ...  \n",
        "\n",
        "[5 rows x 1078 columns]"
       ]
      }
     ],
     "prompt_number": 109
    },
    {
     "cell_type": "code",
     "collapsed": false,
     "input": [
      "xxx.shape"
     ],
     "language": "python",
     "metadata": {},
     "outputs": [
      {
       "metadata": {},
       "output_type": "pyout",
       "prompt_number": 110,
       "text": [
        "(61885, 1078)"
       ]
      }
     ],
     "prompt_number": 110
    },
    {
     "cell_type": "markdown",
     "metadata": {},
     "source": [
      "As you can see `patsy.dmatrices` will conveniently give us a model matrix with dummy variables for categorical values that the `fit()` function can easily digest. Yay!"
     ]
    },
    {
     "cell_type": "code",
     "collapsed": false,
     "input": [
      "clf.fit(xxx,np.ravel(yyy))"
     ],
     "language": "python",
     "metadata": {},
     "outputs": [
      {
       "metadata": {},
       "output_type": "pyout",
       "prompt_number": 96,
       "text": [
        "LogisticRegression(C=1.0, class_weight=None, dual=False, fit_intercept=True,\n",
        "          intercept_scaling=1, penalty='l2', random_state=None, tol=0.0001)"
       ]
      }
     ],
     "prompt_number": 96
    },
    {
     "cell_type": "code",
     "collapsed": false,
     "input": [
      "clf.score(xxx,yyy)"
     ],
     "language": "python",
     "metadata": {},
     "outputs": [
      {
       "metadata": {},
       "output_type": "pyout",
       "prompt_number": 97,
       "text": [
        "0.90346610648784031"
       ]
      }
     ],
     "prompt_number": 97
    },
    {
     "cell_type": "markdown",
     "metadata": {},
     "source": [
      "Woo hoo it works a little better! Let's try it on some test data.\n",
      "\n",
      "Using Test Data\n",
      "---"
     ]
    },
    {
     "cell_type": "code",
     "collapsed": false,
     "input": [
      "test = pd.read_csv(\"/Users/dmig/Repos/git/gadsdata/lemons/test.csv\")\n",
      "sol = pd.read_csv(\"/Users/dmig/Repos/git/gadsdata/lemons/solution.csv\")"
     ],
     "language": "python",
     "metadata": {},
     "outputs": [],
     "prompt_number": 115
    },
    {
     "cell_type": "code",
     "collapsed": false,
     "input": [
      "test.head()\n",
      "test.shape"
     ],
     "language": "python",
     "metadata": {},
     "outputs": [
      {
       "metadata": {},
       "output_type": "pyout",
       "prompt_number": 129,
       "text": [
        "(8000, 33)"
       ]
      }
     ],
     "prompt_number": 129
    },
    {
     "cell_type": "code",
     "collapsed": false,
     "input": [
      "testx = pt.dmatrix('~ VehicleAge + MMRAcquisitionAuctionCleanPrice/MMRCurrentAuctionCleanPrice + Make + Model + VehOdo + WheelTypeID', test, return_type='dataframe')"
     ],
     "language": "python",
     "metadata": {},
     "outputs": [],
     "prompt_number": 133
    },
    {
     "cell_type": "code",
     "collapsed": false,
     "input": [
      "testx.shape"
     ],
     "language": "python",
     "metadata": {},
     "outputs": [
      {
       "metadata": {},
       "output_type": "pyout",
       "prompt_number": 134,
       "text": [
        "(7616, 671)"
       ]
      }
     ],
     "prompt_number": 134
    },
    {
     "cell_type": "code",
     "collapsed": false,
     "input": [
      "predictions = clf.predict(testx)\n",
      "predictions.shape"
     ],
     "language": "python",
     "metadata": {},
     "outputs": [
      {
       "ename": "ValueError",
       "evalue": "X has 671 features per sample; expecting 1078",
       "output_type": "pyerr",
       "traceback": [
        "\u001b[0;31m---------------------------------------------------------------------------\u001b[0m\n\u001b[0;31mValueError\u001b[0m                                Traceback (most recent call last)",
        "\u001b[0;32m<ipython-input-135-9f6c65eaeb64>\u001b[0m in \u001b[0;36m<module>\u001b[0;34m()\u001b[0m\n\u001b[0;32m----> 1\u001b[0;31m \u001b[0mpredictions\u001b[0m \u001b[0;34m=\u001b[0m \u001b[0mclf\u001b[0m\u001b[0;34m.\u001b[0m\u001b[0mpredict\u001b[0m\u001b[0;34m(\u001b[0m\u001b[0mtestx\u001b[0m\u001b[0;34m)\u001b[0m\u001b[0;34m\u001b[0m\u001b[0m\n\u001b[0m\u001b[1;32m      2\u001b[0m \u001b[0mpredictions\u001b[0m\u001b[0;34m.\u001b[0m\u001b[0mshape\u001b[0m\u001b[0;34m\u001b[0m\u001b[0m\n",
        "\u001b[0;32m/Users/dmig/anaconda/lib/python2.7/site-packages/sklearn/linear_model/base.pyc\u001b[0m in \u001b[0;36mpredict\u001b[0;34m(self, X)\u001b[0m\n\u001b[1;32m    221\u001b[0m             \u001b[0mPredicted\u001b[0m \u001b[0;32mclass\u001b[0m \u001b[0mlabel\u001b[0m \u001b[0mper\u001b[0m \u001b[0msample\u001b[0m\u001b[0;34m.\u001b[0m\u001b[0;34m\u001b[0m\u001b[0m\n\u001b[1;32m    222\u001b[0m         \"\"\"\n\u001b[0;32m--> 223\u001b[0;31m         \u001b[0mscores\u001b[0m \u001b[0;34m=\u001b[0m \u001b[0mself\u001b[0m\u001b[0;34m.\u001b[0m\u001b[0mdecision_function\u001b[0m\u001b[0;34m(\u001b[0m\u001b[0mX\u001b[0m\u001b[0;34m)\u001b[0m\u001b[0;34m\u001b[0m\u001b[0m\n\u001b[0m\u001b[1;32m    224\u001b[0m         \u001b[0;32mif\u001b[0m \u001b[0mlen\u001b[0m\u001b[0;34m(\u001b[0m\u001b[0mscores\u001b[0m\u001b[0;34m.\u001b[0m\u001b[0mshape\u001b[0m\u001b[0;34m)\u001b[0m \u001b[0;34m==\u001b[0m \u001b[0;36m1\u001b[0m\u001b[0;34m:\u001b[0m\u001b[0;34m\u001b[0m\u001b[0m\n\u001b[1;32m    225\u001b[0m             \u001b[0mindices\u001b[0m \u001b[0;34m=\u001b[0m \u001b[0;34m(\u001b[0m\u001b[0mscores\u001b[0m \u001b[0;34m>\u001b[0m \u001b[0;36m0\u001b[0m\u001b[0;34m)\u001b[0m\u001b[0;34m.\u001b[0m\u001b[0mastype\u001b[0m\u001b[0;34m(\u001b[0m\u001b[0mnp\u001b[0m\u001b[0;34m.\u001b[0m\u001b[0mint\u001b[0m\u001b[0;34m)\u001b[0m\u001b[0;34m\u001b[0m\u001b[0m\n",
        "\u001b[0;32m/Users/dmig/anaconda/lib/python2.7/site-packages/sklearn/linear_model/base.pyc\u001b[0m in \u001b[0;36mdecision_function\u001b[0;34m(self, X)\u001b[0m\n\u001b[1;32m    202\u001b[0m         \u001b[0;32mif\u001b[0m \u001b[0mX\u001b[0m\u001b[0;34m.\u001b[0m\u001b[0mshape\u001b[0m\u001b[0;34m[\u001b[0m\u001b[0;36m1\u001b[0m\u001b[0;34m]\u001b[0m \u001b[0;34m!=\u001b[0m \u001b[0mn_features\u001b[0m\u001b[0;34m:\u001b[0m\u001b[0;34m\u001b[0m\u001b[0m\n\u001b[1;32m    203\u001b[0m             raise ValueError(\"X has %d features per sample; expecting %d\"\n\u001b[0;32m--> 204\u001b[0;31m                              % (X.shape[1], n_features))\n\u001b[0m\u001b[1;32m    205\u001b[0m \u001b[0;34m\u001b[0m\u001b[0m\n\u001b[1;32m    206\u001b[0m         scores = safe_sparse_dot(X, self.coef_.T,\n",
        "\u001b[0;31mValueError\u001b[0m: X has 671 features per sample; expecting 1078"
       ]
      }
     ],
     "prompt_number": 135
    },
    {
     "cell_type": "code",
     "collapsed": false,
     "input": [
      "metrics.confusion_matrix(sol.ix[:,1], predictions)"
     ],
     "language": "python",
     "metadata": {},
     "outputs": [
      {
       "ename": "ValueError",
       "evalue": "Found array with dim 61885. Expected 8000",
       "output_type": "pyerr",
       "traceback": [
        "\u001b[0;31m---------------------------------------------------------------------------\u001b[0m\n\u001b[0;31mValueError\u001b[0m                                Traceback (most recent call last)",
        "\u001b[0;32m<ipython-input-118-47a2af7b35a9>\u001b[0m in \u001b[0;36m<module>\u001b[0;34m()\u001b[0m\n\u001b[0;32m----> 1\u001b[0;31m \u001b[0mmetrics\u001b[0m\u001b[0;34m.\u001b[0m\u001b[0mconfusion_matrix\u001b[0m\u001b[0;34m(\u001b[0m\u001b[0msol\u001b[0m\u001b[0;34m.\u001b[0m\u001b[0mix\u001b[0m\u001b[0;34m[\u001b[0m\u001b[0;34m:\u001b[0m\u001b[0;34m,\u001b[0m\u001b[0;36m1\u001b[0m\u001b[0;34m]\u001b[0m\u001b[0;34m,\u001b[0m \u001b[0mpredictions\u001b[0m\u001b[0;34m)\u001b[0m\u001b[0;34m\u001b[0m\u001b[0m\n\u001b[0m",
        "\u001b[0;32m/Users/dmig/anaconda/lib/python2.7/site-packages/sklearn/metrics/metrics.pyc\u001b[0m in \u001b[0;36mconfusion_matrix\u001b[0;34m(y_true, y_pred, labels)\u001b[0m\n\u001b[1;32m    740\u001b[0m \u001b[0;34m\u001b[0m\u001b[0m\n\u001b[1;32m    741\u001b[0m     \"\"\"\n\u001b[0;32m--> 742\u001b[0;31m     \u001b[0my_type\u001b[0m\u001b[0;34m,\u001b[0m \u001b[0my_true\u001b[0m\u001b[0;34m,\u001b[0m \u001b[0my_pred\u001b[0m \u001b[0;34m=\u001b[0m \u001b[0m_check_clf_targets\u001b[0m\u001b[0;34m(\u001b[0m\u001b[0my_true\u001b[0m\u001b[0;34m,\u001b[0m \u001b[0my_pred\u001b[0m\u001b[0;34m)\u001b[0m\u001b[0;34m\u001b[0m\u001b[0m\n\u001b[0m\u001b[1;32m    743\u001b[0m     \u001b[0;32mif\u001b[0m \u001b[0my_type\u001b[0m \u001b[0;32mnot\u001b[0m \u001b[0;32min\u001b[0m \u001b[0;34m(\u001b[0m\u001b[0;34m\"binary\"\u001b[0m\u001b[0;34m,\u001b[0m \u001b[0;34m\"multiclass\"\u001b[0m\u001b[0;34m)\u001b[0m\u001b[0;34m:\u001b[0m\u001b[0;34m\u001b[0m\u001b[0m\n\u001b[1;32m    744\u001b[0m         \u001b[0;32mraise\u001b[0m \u001b[0mValueError\u001b[0m\u001b[0;34m(\u001b[0m\u001b[0;34m\"%s is not supported\"\u001b[0m \u001b[0;34m%\u001b[0m \u001b[0my_type\u001b[0m\u001b[0;34m)\u001b[0m\u001b[0;34m\u001b[0m\u001b[0m\n",
        "\u001b[0;32m/Users/dmig/anaconda/lib/python2.7/site-packages/sklearn/metrics/metrics.pyc\u001b[0m in \u001b[0;36m_check_clf_targets\u001b[0;34m(y_true, y_pred)\u001b[0m\n\u001b[1;32m    103\u001b[0m     \u001b[0my_pred\u001b[0m \u001b[0;34m:\u001b[0m \u001b[0marray\u001b[0m \u001b[0;32mor\u001b[0m \u001b[0mindicator\u001b[0m \u001b[0mmatrix\u001b[0m \u001b[0;32mor\u001b[0m \u001b[0msequence\u001b[0m \u001b[0mof\u001b[0m \u001b[0msequences\u001b[0m\u001b[0;34m\u001b[0m\u001b[0m\n\u001b[1;32m    104\u001b[0m     \"\"\"\n\u001b[0;32m--> 105\u001b[0;31m     \u001b[0my_true\u001b[0m\u001b[0;34m,\u001b[0m \u001b[0my_pred\u001b[0m \u001b[0;34m=\u001b[0m \u001b[0mcheck_arrays\u001b[0m\u001b[0;34m(\u001b[0m\u001b[0my_true\u001b[0m\u001b[0;34m,\u001b[0m \u001b[0my_pred\u001b[0m\u001b[0;34m,\u001b[0m \u001b[0mallow_lists\u001b[0m\u001b[0;34m=\u001b[0m\u001b[0mTrue\u001b[0m\u001b[0;34m)\u001b[0m\u001b[0;34m\u001b[0m\u001b[0m\n\u001b[0m\u001b[1;32m    106\u001b[0m     \u001b[0mtype_true\u001b[0m \u001b[0;34m=\u001b[0m \u001b[0mtype_of_target\u001b[0m\u001b[0;34m(\u001b[0m\u001b[0my_true\u001b[0m\u001b[0;34m)\u001b[0m\u001b[0;34m\u001b[0m\u001b[0m\n\u001b[1;32m    107\u001b[0m     \u001b[0mtype_pred\u001b[0m \u001b[0;34m=\u001b[0m \u001b[0mtype_of_target\u001b[0m\u001b[0;34m(\u001b[0m\u001b[0my_pred\u001b[0m\u001b[0;34m)\u001b[0m\u001b[0;34m\u001b[0m\u001b[0m\n",
        "\u001b[0;32m/Users/dmig/anaconda/lib/python2.7/site-packages/sklearn/utils/validation.pyc\u001b[0m in \u001b[0;36mcheck_arrays\u001b[0;34m(*arrays, **options)\u001b[0m\n\u001b[1;32m    209\u001b[0m         \u001b[0;32mif\u001b[0m \u001b[0msize\u001b[0m \u001b[0;34m!=\u001b[0m \u001b[0mn_samples\u001b[0m\u001b[0;34m:\u001b[0m\u001b[0;34m\u001b[0m\u001b[0m\n\u001b[1;32m    210\u001b[0m             raise ValueError(\"Found array with dim %d. Expected %d\"\n\u001b[0;32m--> 211\u001b[0;31m                              % (size, n_samples))\n\u001b[0m\u001b[1;32m    212\u001b[0m \u001b[0;34m\u001b[0m\u001b[0m\n\u001b[1;32m    213\u001b[0m         \u001b[0;32mif\u001b[0m \u001b[0;32mnot\u001b[0m \u001b[0mallow_lists\u001b[0m \u001b[0;32mor\u001b[0m \u001b[0mhasattr\u001b[0m\u001b[0;34m(\u001b[0m\u001b[0marray\u001b[0m\u001b[0;34m,\u001b[0m \u001b[0;34m\"shape\"\u001b[0m\u001b[0;34m)\u001b[0m\u001b[0;34m:\u001b[0m\u001b[0;34m\u001b[0m\u001b[0m\n",
        "\u001b[0;31mValueError\u001b[0m: Found array with dim 61885. Expected 8000"
       ]
      }
     ],
     "prompt_number": 118
    },
    {
     "cell_type": "code",
     "collapsed": false,
     "input": [],
     "language": "python",
     "metadata": {},
     "outputs": []
    }
   ],
   "metadata": {}
  }
 ]
}