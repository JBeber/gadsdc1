{
 "metadata": {
  "name": ""
 },
 "nbformat": 3,
 "nbformat_minor": 0,
 "worksheets": [
  {
   "cells": [
    {
     "cell_type": "markdown",
     "metadata": {},
     "source": [
      "Lemons Logistic Regression\n",
      "===\n",
      "This notebook addresses the \"lemons\" dataset using logistic regression to predict the likelihood of a vehicle bought at an auction as being a \"lemon\".\n",
      "\n",
      "Preparing Data\n",
      "---\n",
      "First, I read the CSV using pandas so it arrives as a dataframe and inspected the columns."
     ]
    },
    {
     "cell_type": "code",
     "collapsed": false,
     "input": [
      "from sklearn.linear_model import LogisticRegression\n",
      "import numpy as np\n",
      "from sklearn import metrics\n",
      "from sklearn.cross_validation import train_test_split"
     ],
     "language": "python",
     "metadata": {},
     "outputs": [],
     "prompt_number": 144
    },
    {
     "cell_type": "code",
     "collapsed": false,
     "input": [
      "import pandas as pd\n",
      "import patsy as pt"
     ],
     "language": "python",
     "metadata": {},
     "outputs": [],
     "prompt_number": 58
    },
    {
     "cell_type": "code",
     "collapsed": false,
     "input": [
      "train = pd.read_csv(\"/Users/dmig/Repos/git/gadsdata/lemons/train.csv\")"
     ],
     "language": "python",
     "metadata": {},
     "outputs": [],
     "prompt_number": 5
    },
    {
     "cell_type": "code",
     "collapsed": false,
     "input": [
      "train.head()"
     ],
     "language": "python",
     "metadata": {},
     "outputs": [
      {
       "html": [
        "<div style=\"max-height:1000px;max-width:1500px;overflow:auto;\">\n",
        "<table border=\"1\" class=\"dataframe\">\n",
        "  <thead>\n",
        "    <tr style=\"text-align: right;\">\n",
        "      <th></th>\n",
        "      <th>RefId</th>\n",
        "      <th>IsBadBuy</th>\n",
        "      <th>PurchDate</th>\n",
        "      <th>Auction</th>\n",
        "      <th>VehYear</th>\n",
        "      <th>VehicleAge</th>\n",
        "      <th>Make</th>\n",
        "      <th>Model</th>\n",
        "      <th>Trim</th>\n",
        "      <th>SubModel</th>\n",
        "      <th>Color</th>\n",
        "      <th>Transmission</th>\n",
        "      <th>WheelTypeID</th>\n",
        "      <th>WheelType</th>\n",
        "      <th>VehOdo</th>\n",
        "      <th>Nationality</th>\n",
        "      <th>Size</th>\n",
        "      <th>TopThreeAmericanName</th>\n",
        "      <th>MMRAcquisitionAuctionAveragePrice</th>\n",
        "      <th>MMRAcquisitionAuctionCleanPrice</th>\n",
        "      <th></th>\n",
        "    </tr>\n",
        "  </thead>\n",
        "  <tbody>\n",
        "    <tr>\n",
        "      <th>0</th>\n",
        "      <td> 1</td>\n",
        "      <td> 0</td>\n",
        "      <td> 12/7/2009</td>\n",
        "      <td> ADESA</td>\n",
        "      <td> 2006</td>\n",
        "      <td> 3</td>\n",
        "      <td> MAZDA</td>\n",
        "      <td>              MAZDA3</td>\n",
        "      <td>   i</td>\n",
        "      <td>        4D SEDAN I</td>\n",
        "      <td>    RED</td>\n",
        "      <td>   AUTO</td>\n",
        "      <td> 1</td>\n",
        "      <td>  Alloy</td>\n",
        "      <td> 89046</td>\n",
        "      <td> OTHER ASIAN</td>\n",
        "      <td>      MEDIUM</td>\n",
        "      <td>    OTHER</td>\n",
        "      <td> 8155</td>\n",
        "      <td> 9829</td>\n",
        "      <td>...</td>\n",
        "    </tr>\n",
        "    <tr>\n",
        "      <th>1</th>\n",
        "      <td> 2</td>\n",
        "      <td> 0</td>\n",
        "      <td> 12/7/2009</td>\n",
        "      <td> ADESA</td>\n",
        "      <td> 2004</td>\n",
        "      <td> 5</td>\n",
        "      <td> DODGE</td>\n",
        "      <td> 1500 RAM PICKUP 2WD</td>\n",
        "      <td>  ST</td>\n",
        "      <td> QUAD CAB 4.7L SLT</td>\n",
        "      <td>  WHITE</td>\n",
        "      <td>   AUTO</td>\n",
        "      <td> 1</td>\n",
        "      <td>  Alloy</td>\n",
        "      <td> 93593</td>\n",
        "      <td>    AMERICAN</td>\n",
        "      <td> LARGE TRUCK</td>\n",
        "      <td> CHRYSLER</td>\n",
        "      <td> 6854</td>\n",
        "      <td> 8383</td>\n",
        "      <td>...</td>\n",
        "    </tr>\n",
        "    <tr>\n",
        "      <th>2</th>\n",
        "      <td> 3</td>\n",
        "      <td> 0</td>\n",
        "      <td> 12/7/2009</td>\n",
        "      <td> ADESA</td>\n",
        "      <td> 2005</td>\n",
        "      <td> 4</td>\n",
        "      <td> DODGE</td>\n",
        "      <td>          STRATUS V6</td>\n",
        "      <td> SXT</td>\n",
        "      <td>  4D SEDAN SXT FFV</td>\n",
        "      <td> MAROON</td>\n",
        "      <td>   AUTO</td>\n",
        "      <td> 2</td>\n",
        "      <td> Covers</td>\n",
        "      <td> 73807</td>\n",
        "      <td>    AMERICAN</td>\n",
        "      <td>      MEDIUM</td>\n",
        "      <td> CHRYSLER</td>\n",
        "      <td> 3202</td>\n",
        "      <td> 4760</td>\n",
        "      <td>...</td>\n",
        "    </tr>\n",
        "    <tr>\n",
        "      <th>3</th>\n",
        "      <td> 4</td>\n",
        "      <td> 0</td>\n",
        "      <td> 12/7/2009</td>\n",
        "      <td> ADESA</td>\n",
        "      <td> 2004</td>\n",
        "      <td> 5</td>\n",
        "      <td> DODGE</td>\n",
        "      <td>                NEON</td>\n",
        "      <td> SXT</td>\n",
        "      <td>          4D SEDAN</td>\n",
        "      <td> SILVER</td>\n",
        "      <td>   AUTO</td>\n",
        "      <td> 1</td>\n",
        "      <td>  Alloy</td>\n",
        "      <td> 65617</td>\n",
        "      <td>    AMERICAN</td>\n",
        "      <td>     COMPACT</td>\n",
        "      <td> CHRYSLER</td>\n",
        "      <td> 1893</td>\n",
        "      <td> 2675</td>\n",
        "      <td>...</td>\n",
        "    </tr>\n",
        "    <tr>\n",
        "      <th>4</th>\n",
        "      <td> 5</td>\n",
        "      <td> 0</td>\n",
        "      <td> 12/7/2009</td>\n",
        "      <td> ADESA</td>\n",
        "      <td> 2005</td>\n",
        "      <td> 4</td>\n",
        "      <td>  FORD</td>\n",
        "      <td>               FOCUS</td>\n",
        "      <td> ZX3</td>\n",
        "      <td>      2D COUPE ZX3</td>\n",
        "      <td> SILVER</td>\n",
        "      <td> MANUAL</td>\n",
        "      <td> 2</td>\n",
        "      <td> Covers</td>\n",
        "      <td> 69367</td>\n",
        "      <td>    AMERICAN</td>\n",
        "      <td>     COMPACT</td>\n",
        "      <td>     FORD</td>\n",
        "      <td> 3913</td>\n",
        "      <td> 5054</td>\n",
        "      <td>...</td>\n",
        "    </tr>\n",
        "  </tbody>\n",
        "</table>\n",
        "<p>5 rows \u00d7 34 columns</p>\n",
        "</div>"
       ],
       "metadata": {},
       "output_type": "pyout",
       "prompt_number": 84,
       "text": [
        "   RefId  IsBadBuy  PurchDate Auction  VehYear  VehicleAge   Make  \\\n",
        "0      1         0  12/7/2009   ADESA     2006           3  MAZDA   \n",
        "1      2         0  12/7/2009   ADESA     2004           5  DODGE   \n",
        "2      3         0  12/7/2009   ADESA     2005           4  DODGE   \n",
        "3      4         0  12/7/2009   ADESA     2004           5  DODGE   \n",
        "4      5         0  12/7/2009   ADESA     2005           4   FORD   \n",
        "\n",
        "                 Model Trim           SubModel   Color Transmission  \\\n",
        "0               MAZDA3    i         4D SEDAN I     RED         AUTO   \n",
        "1  1500 RAM PICKUP 2WD   ST  QUAD CAB 4.7L SLT   WHITE         AUTO   \n",
        "2           STRATUS V6  SXT   4D SEDAN SXT FFV  MAROON         AUTO   \n",
        "3                 NEON  SXT           4D SEDAN  SILVER         AUTO   \n",
        "4                FOCUS  ZX3       2D COUPE ZX3  SILVER       MANUAL   \n",
        "\n",
        "   WheelTypeID WheelType  VehOdo  Nationality         Size  \\\n",
        "0            1     Alloy   89046  OTHER ASIAN       MEDIUM   \n",
        "1            1     Alloy   93593     AMERICAN  LARGE TRUCK   \n",
        "2            2    Covers   73807     AMERICAN       MEDIUM   \n",
        "3            1     Alloy   65617     AMERICAN      COMPACT   \n",
        "4            2    Covers   69367     AMERICAN      COMPACT   \n",
        "\n",
        "  TopThreeAmericanName  MMRAcquisitionAuctionAveragePrice  \\\n",
        "0                OTHER                               8155   \n",
        "1             CHRYSLER                               6854   \n",
        "2             CHRYSLER                               3202   \n",
        "3             CHRYSLER                               1893   \n",
        "4                 FORD                               3913   \n",
        "\n",
        "   MMRAcquisitionAuctionCleanPrice      \n",
        "0                             9829 ...  \n",
        "1                             8383 ...  \n",
        "2                             4760 ...  \n",
        "3                             2675 ...  \n",
        "4                             5054 ...  \n",
        "\n",
        "[5 rows x 34 columns]"
       ]
      }
     ],
     "prompt_number": 84
    },
    {
     "cell_type": "markdown",
     "metadata": {},
     "source": [
      "The dataset is made up of [0] a row identifier, [1] the row label as a bad buy (1) and a good buy (0), [2:33] 34 other variables that describe the car including price analysis at auction, acquisition, and retail, car details such as transmission type, make and model, or color, car brand nationality and whether it is one of the top 3 American brand names, whether it was an online sale, and 3 unknown columns \"PRIMEUNIT\", \"AUCGUART\", \"BYRNO\"."
     ]
    },
    {
     "cell_type": "code",
     "collapsed": false,
     "input": [
      "train.ix[:,20:].head()"
     ],
     "language": "python",
     "metadata": {},
     "outputs": [
      {
       "html": [
        "<div style=\"max-height:1000px;max-width:1500px;overflow:auto;\">\n",
        "<table border=\"1\" class=\"dataframe\">\n",
        "  <thead>\n",
        "    <tr style=\"text-align: right;\">\n",
        "      <th></th>\n",
        "      <th>MMRAcquisitionRetailAveragePrice</th>\n",
        "      <th>MMRAcquisitonRetailCleanPrice</th>\n",
        "      <th>MMRCurrentAuctionAveragePrice</th>\n",
        "      <th>MMRCurrentAuctionCleanPrice</th>\n",
        "      <th>MMRCurrentRetailAveragePrice</th>\n",
        "      <th>MMRCurrentRetailCleanPrice</th>\n",
        "      <th>PRIMEUNIT</th>\n",
        "      <th>AUCGUART</th>\n",
        "      <th>BYRNO</th>\n",
        "      <th>VNZIP1</th>\n",
        "      <th>VNST</th>\n",
        "      <th>VehBCost</th>\n",
        "      <th>IsOnlineSale</th>\n",
        "      <th>WarrantyCost</th>\n",
        "    </tr>\n",
        "  </thead>\n",
        "  <tbody>\n",
        "    <tr>\n",
        "      <th>0</th>\n",
        "      <td> 11636</td>\n",
        "      <td> 13600</td>\n",
        "      <td> 7451</td>\n",
        "      <td> 8552</td>\n",
        "      <td> 11597</td>\n",
        "      <td> 12409</td>\n",
        "      <td> NaN</td>\n",
        "      <td> NaN</td>\n",
        "      <td> 21973</td>\n",
        "      <td> 33619</td>\n",
        "      <td> FL</td>\n",
        "      <td> 7100</td>\n",
        "      <td> 0</td>\n",
        "      <td> 1113</td>\n",
        "    </tr>\n",
        "    <tr>\n",
        "      <th>1</th>\n",
        "      <td> 10897</td>\n",
        "      <td> 12572</td>\n",
        "      <td> 7456</td>\n",
        "      <td> 9222</td>\n",
        "      <td> 11374</td>\n",
        "      <td> 12791</td>\n",
        "      <td> NaN</td>\n",
        "      <td> NaN</td>\n",
        "      <td> 19638</td>\n",
        "      <td> 33619</td>\n",
        "      <td> FL</td>\n",
        "      <td> 7600</td>\n",
        "      <td> 0</td>\n",
        "      <td> 1053</td>\n",
        "    </tr>\n",
        "    <tr>\n",
        "      <th>2</th>\n",
        "      <td>  6943</td>\n",
        "      <td>  8457</td>\n",
        "      <td> 4035</td>\n",
        "      <td> 5557</td>\n",
        "      <td>  7146</td>\n",
        "      <td>  8702</td>\n",
        "      <td> NaN</td>\n",
        "      <td> NaN</td>\n",
        "      <td> 19638</td>\n",
        "      <td> 33619</td>\n",
        "      <td> FL</td>\n",
        "      <td> 4900</td>\n",
        "      <td> 0</td>\n",
        "      <td> 1389</td>\n",
        "    </tr>\n",
        "    <tr>\n",
        "      <th>3</th>\n",
        "      <td>  4658</td>\n",
        "      <td>  5690</td>\n",
        "      <td> 1844</td>\n",
        "      <td> 2646</td>\n",
        "      <td>  4375</td>\n",
        "      <td>  5518</td>\n",
        "      <td> NaN</td>\n",
        "      <td> NaN</td>\n",
        "      <td> 19638</td>\n",
        "      <td> 33619</td>\n",
        "      <td> FL</td>\n",
        "      <td> 4100</td>\n",
        "      <td> 0</td>\n",
        "      <td>  630</td>\n",
        "    </tr>\n",
        "    <tr>\n",
        "      <th>4</th>\n",
        "      <td>  7723</td>\n",
        "      <td>  8707</td>\n",
        "      <td> 3247</td>\n",
        "      <td> 4384</td>\n",
        "      <td>  6739</td>\n",
        "      <td>  7911</td>\n",
        "      <td> NaN</td>\n",
        "      <td> NaN</td>\n",
        "      <td> 19638</td>\n",
        "      <td> 33619</td>\n",
        "      <td> FL</td>\n",
        "      <td> 4000</td>\n",
        "      <td> 0</td>\n",
        "      <td> 1020</td>\n",
        "    </tr>\n",
        "  </tbody>\n",
        "</table>\n",
        "<p>5 rows \u00d7 14 columns</p>\n",
        "</div>"
       ],
       "metadata": {},
       "output_type": "pyout",
       "prompt_number": 93,
       "text": [
        "   MMRAcquisitionRetailAveragePrice  MMRAcquisitonRetailCleanPrice  \\\n",
        "0                             11636                          13600   \n",
        "1                             10897                          12572   \n",
        "2                              6943                           8457   \n",
        "3                              4658                           5690   \n",
        "4                              7723                           8707   \n",
        "\n",
        "   MMRCurrentAuctionAveragePrice  MMRCurrentAuctionCleanPrice  \\\n",
        "0                           7451                         8552   \n",
        "1                           7456                         9222   \n",
        "2                           4035                         5557   \n",
        "3                           1844                         2646   \n",
        "4                           3247                         4384   \n",
        "\n",
        "   MMRCurrentRetailAveragePrice  MMRCurrentRetailCleanPrice PRIMEUNIT  \\\n",
        "0                         11597                       12409       NaN   \n",
        "1                         11374                       12791       NaN   \n",
        "2                          7146                        8702       NaN   \n",
        "3                          4375                        5518       NaN   \n",
        "4                          6739                        7911       NaN   \n",
        "\n",
        "  AUCGUART  BYRNO  VNZIP1 VNST  VehBCost  IsOnlineSale  WarrantyCost  \n",
        "0      NaN  21973   33619   FL      7100             0          1113  \n",
        "1      NaN  19638   33619   FL      7600             0          1053  \n",
        "2      NaN  19638   33619   FL      4900             0          1389  \n",
        "3      NaN  19638   33619   FL      4100             0           630  \n",
        "4      NaN  19638   33619   FL      4000             0          1020  \n",
        "\n",
        "[5 rows x 14 columns]"
       ]
      }
     ],
     "prompt_number": 93
    },
    {
     "cell_type": "code",
     "collapsed": false,
     "input": [
      "train.dtypes"
     ],
     "language": "python",
     "metadata": {},
     "outputs": [
      {
       "metadata": {},
       "output_type": "pyout",
       "prompt_number": 81,
       "text": [
        "RefId                                  int64\n",
        "IsBadBuy                               int64\n",
        "PurchDate                             object\n",
        "Auction                               object\n",
        "VehYear                                int64\n",
        "VehicleAge                             int64\n",
        "Make                                  object\n",
        "Model                                 object\n",
        "Trim                                  object\n",
        "SubModel                              object\n",
        "Color                                 object\n",
        "Transmission                          object\n",
        "WheelTypeID                          float64\n",
        "WheelType                             object\n",
        "VehOdo                                 int64\n",
        "Nationality                           object\n",
        "Size                                  object\n",
        "TopThreeAmericanName                  object\n",
        "MMRAcquisitionAuctionAveragePrice    float64\n",
        "MMRAcquisitionAuctionCleanPrice      float64\n",
        "MMRAcquisitionRetailAveragePrice     float64\n",
        "MMRAcquisitonRetailCleanPrice        float64\n",
        "MMRCurrentAuctionAveragePrice        float64\n",
        "MMRCurrentAuctionCleanPrice          float64\n",
        "MMRCurrentRetailAveragePrice         float64\n",
        "MMRCurrentRetailCleanPrice           float64\n",
        "PRIMEUNIT                             object\n",
        "AUCGUART                              object\n",
        "BYRNO                                  int64\n",
        "VNZIP1                                 int64\n",
        "VNST                                  object\n",
        "VehBCost                             float64\n",
        "IsOnlineSale                           int64\n",
        "WarrantyCost                           int64\n",
        "dtype: object"
       ]
      }
     ],
     "prompt_number": 81
    },
    {
     "cell_type": "markdown",
     "metadata": {},
     "source": [
      "Now I must cut up the data into the features I want to use and the labels for use by the logistic regression model. I use the ``patsy`` method ``dmatrices`` to use R formula notation to derive the features (x) and labels (y)."
     ]
    },
    {
     "cell_type": "code",
     "collapsed": false,
     "input": [
      "y, x= pt.dmatrices('IsBadBuy ~ VehicleAge', train, return_type='dataframe')"
     ],
     "language": "python",
     "metadata": {},
     "outputs": [],
     "prompt_number": 61
    },
    {
     "cell_type": "code",
     "collapsed": false,
     "input": [
      "y.head()"
     ],
     "language": "python",
     "metadata": {},
     "outputs": [
      {
       "html": [
        "<div style=\"max-height:1000px;max-width:1500px;overflow:auto;\">\n",
        "<table border=\"1\" class=\"dataframe\">\n",
        "  <thead>\n",
        "    <tr style=\"text-align: right;\">\n",
        "      <th></th>\n",
        "      <th>IsBadBuy</th>\n",
        "    </tr>\n",
        "  </thead>\n",
        "  <tbody>\n",
        "    <tr>\n",
        "      <th>0</th>\n",
        "      <td> 0</td>\n",
        "    </tr>\n",
        "    <tr>\n",
        "      <th>1</th>\n",
        "      <td> 0</td>\n",
        "    </tr>\n",
        "    <tr>\n",
        "      <th>2</th>\n",
        "      <td> 0</td>\n",
        "    </tr>\n",
        "    <tr>\n",
        "      <th>3</th>\n",
        "      <td> 0</td>\n",
        "    </tr>\n",
        "    <tr>\n",
        "      <th>4</th>\n",
        "      <td> 0</td>\n",
        "    </tr>\n",
        "  </tbody>\n",
        "</table>\n",
        "<p>5 rows \u00d7 1 columns</p>\n",
        "</div>"
       ],
       "metadata": {},
       "output_type": "pyout",
       "prompt_number": 62,
       "text": [
        "   IsBadBuy\n",
        "0         0\n",
        "1         0\n",
        "2         0\n",
        "3         0\n",
        "4         0\n",
        "\n",
        "[5 rows x 1 columns]"
       ]
      }
     ],
     "prompt_number": 62
    },
    {
     "cell_type": "code",
     "collapsed": false,
     "input": [
      "x.head()"
     ],
     "language": "python",
     "metadata": {},
     "outputs": [
      {
       "html": [
        "<div style=\"max-height:1000px;max-width:1500px;overflow:auto;\">\n",
        "<table border=\"1\" class=\"dataframe\">\n",
        "  <thead>\n",
        "    <tr style=\"text-align: right;\">\n",
        "      <th></th>\n",
        "      <th>Intercept</th>\n",
        "      <th>VehicleAge</th>\n",
        "    </tr>\n",
        "  </thead>\n",
        "  <tbody>\n",
        "    <tr>\n",
        "      <th>0</th>\n",
        "      <td> 1</td>\n",
        "      <td> 3</td>\n",
        "    </tr>\n",
        "    <tr>\n",
        "      <th>1</th>\n",
        "      <td> 1</td>\n",
        "      <td> 5</td>\n",
        "    </tr>\n",
        "    <tr>\n",
        "      <th>2</th>\n",
        "      <td> 1</td>\n",
        "      <td> 4</td>\n",
        "    </tr>\n",
        "    <tr>\n",
        "      <th>3</th>\n",
        "      <td> 1</td>\n",
        "      <td> 5</td>\n",
        "    </tr>\n",
        "    <tr>\n",
        "      <th>4</th>\n",
        "      <td> 1</td>\n",
        "      <td> 4</td>\n",
        "    </tr>\n",
        "  </tbody>\n",
        "</table>\n",
        "<p>5 rows \u00d7 2 columns</p>\n",
        "</div>"
       ],
       "metadata": {},
       "output_type": "pyout",
       "prompt_number": 63,
       "text": [
        "   Intercept  VehicleAge\n",
        "0          1           3\n",
        "1          1           5\n",
        "2          1           4\n",
        "3          1           5\n",
        "4          1           4\n",
        "\n",
        "[5 rows x 2 columns]"
       ]
      }
     ],
     "prompt_number": 63
    },
    {
     "cell_type": "markdown",
     "metadata": {},
     "source": [
      "Logistic Regression\n",
      "---\n",
      "Now I use the LogisticRegression class to generate a default logistic regression and fit it to my training data. Note I use ``np.ravel()`` to flatten my y dataframe so it looks the way ``fit()`` wants it to."
     ]
    },
    {
     "cell_type": "code",
     "collapsed": false,
     "input": [
      "clf = LogisticRegression()"
     ],
     "language": "python",
     "metadata": {},
     "outputs": []
    },
    {
     "cell_type": "code",
     "collapsed": false,
     "input": [
      "clf.fit(x, np.ravel(y))"
     ],
     "language": "python",
     "metadata": {},
     "outputs": [
      {
       "metadata": {},
       "output_type": "pyout",
       "prompt_number": 69,
       "text": [
        "LogisticRegression(C=1.0, class_weight=None, dual=False, fit_intercept=True,\n",
        "          intercept_scaling=1, penalty='l2', random_state=None, tol=0.0001)"
       ]
      }
     ],
     "prompt_number": 69
    },
    {
     "cell_type": "code",
     "collapsed": false,
     "input": [
      "clf.score(x,y)"
     ],
     "language": "python",
     "metadata": {},
     "outputs": [
      {
       "metadata": {},
       "output_type": "pyout",
       "prompt_number": 70,
       "text": [
        "0.87678315867226808"
       ]
      }
     ],
     "prompt_number": 70
    },
    {
     "cell_type": "markdown",
     "metadata": {},
     "source": [
      "Looks like this simple regression is 87% effective on itself. I add another term, the car's acquisition price divided by it's auction price, as a ratio that represents how much you made off compared to how much the car was bought for."
     ]
    },
    {
     "cell_type": "code",
     "collapsed": false,
     "input": [
      "yy, xx = pt.dmatrices('IsBadBuy ~ VehicleAge + MMRAcquisitionAuctionCleanPrice/MMRCurrentAuctionCleanPrice', train, return_type='dataframe')"
     ],
     "language": "python",
     "metadata": {},
     "outputs": [],
     "prompt_number": 72
    },
    {
     "cell_type": "code",
     "collapsed": false,
     "input": [
      "clf.fit(xx, np.ravel(yy))"
     ],
     "language": "python",
     "metadata": {},
     "outputs": [
      {
       "metadata": {},
       "output_type": "pyout",
       "prompt_number": 73,
       "text": [
        "LogisticRegression(C=1.0, class_weight=None, dual=False, fit_intercept=True,\n",
        "          intercept_scaling=1, penalty='l2', random_state=None, tol=0.0001)"
       ]
      }
     ],
     "prompt_number": 73
    },
    {
     "cell_type": "code",
     "collapsed": false,
     "input": [
      "clf.score(xx,yy)"
     ],
     "language": "python",
     "metadata": {},
     "outputs": [
      {
       "metadata": {},
       "output_type": "pyout",
       "prompt_number": 74,
       "text": [
        "0.87665157392097171"
       ]
      }
     ],
     "prompt_number": 74
    },
    {
     "cell_type": "markdown",
     "metadata": {},
     "source": [
      "This actually didn't do much better, and we haven't even tried the testing data yet. Let's throw a few more variables in there."
     ]
    },
    {
     "cell_type": "code",
     "collapsed": false,
     "input": [
      "yyy,xxx = pt.dmatrices('IsBadBuy ~ VehicleAge + MMRAcquisitionAuctionCleanPrice/MMRCurrentAuctionCleanPrice + Make + Model + VehOdo + WheelTypeID', train, return_type='dataframe')"
     ],
     "language": "python",
     "metadata": {},
     "outputs": [],
     "prompt_number": 94
    },
    {
     "cell_type": "code",
     "collapsed": false,
     "input": [
      "xxx.head()"
     ],
     "language": "python",
     "metadata": {},
     "outputs": [
      {
       "html": [
        "<div style=\"max-height:1000px;max-width:1500px;overflow:auto;\">\n",
        "<table border=\"1\" class=\"dataframe\">\n",
        "  <thead>\n",
        "    <tr style=\"text-align: right;\">\n",
        "      <th></th>\n",
        "      <th>Intercept</th>\n",
        "      <th>Make[T.BUICK]</th>\n",
        "      <th>Make[T.CADILLAC]</th>\n",
        "      <th>Make[T.CHEVROLET]</th>\n",
        "      <th>Make[T.CHRYSLER]</th>\n",
        "      <th>Make[T.DODGE]</th>\n",
        "      <th>Make[T.FORD]</th>\n",
        "      <th>Make[T.GMC]</th>\n",
        "      <th>Make[T.HONDA]</th>\n",
        "      <th>Make[T.HUMMER]</th>\n",
        "      <th>Make[T.HYUNDAI]</th>\n",
        "      <th>Make[T.INFINITI]</th>\n",
        "      <th>Make[T.ISUZU]</th>\n",
        "      <th>Make[T.JEEP]</th>\n",
        "      <th>Make[T.KIA]</th>\n",
        "      <th>Make[T.LEXUS]</th>\n",
        "      <th>Make[T.LINCOLN]</th>\n",
        "      <th>Make[T.MAZDA]</th>\n",
        "      <th>Make[T.MERCURY]</th>\n",
        "      <th>Make[T.MINI]</th>\n",
        "      <th></th>\n",
        "    </tr>\n",
        "  </thead>\n",
        "  <tbody>\n",
        "    <tr>\n",
        "      <th>0</th>\n",
        "      <td> 1</td>\n",
        "      <td> 0</td>\n",
        "      <td> 0</td>\n",
        "      <td> 0</td>\n",
        "      <td> 0</td>\n",
        "      <td> 0</td>\n",
        "      <td> 0</td>\n",
        "      <td> 0</td>\n",
        "      <td> 0</td>\n",
        "      <td> 0</td>\n",
        "      <td> 0</td>\n",
        "      <td> 0</td>\n",
        "      <td> 0</td>\n",
        "      <td> 0</td>\n",
        "      <td> 0</td>\n",
        "      <td> 0</td>\n",
        "      <td> 0</td>\n",
        "      <td> 1</td>\n",
        "      <td> 0</td>\n",
        "      <td> 0</td>\n",
        "      <td>...</td>\n",
        "    </tr>\n",
        "    <tr>\n",
        "      <th>1</th>\n",
        "      <td> 1</td>\n",
        "      <td> 0</td>\n",
        "      <td> 0</td>\n",
        "      <td> 0</td>\n",
        "      <td> 0</td>\n",
        "      <td> 1</td>\n",
        "      <td> 0</td>\n",
        "      <td> 0</td>\n",
        "      <td> 0</td>\n",
        "      <td> 0</td>\n",
        "      <td> 0</td>\n",
        "      <td> 0</td>\n",
        "      <td> 0</td>\n",
        "      <td> 0</td>\n",
        "      <td> 0</td>\n",
        "      <td> 0</td>\n",
        "      <td> 0</td>\n",
        "      <td> 0</td>\n",
        "      <td> 0</td>\n",
        "      <td> 0</td>\n",
        "      <td>...</td>\n",
        "    </tr>\n",
        "    <tr>\n",
        "      <th>2</th>\n",
        "      <td> 1</td>\n",
        "      <td> 0</td>\n",
        "      <td> 0</td>\n",
        "      <td> 0</td>\n",
        "      <td> 0</td>\n",
        "      <td> 1</td>\n",
        "      <td> 0</td>\n",
        "      <td> 0</td>\n",
        "      <td> 0</td>\n",
        "      <td> 0</td>\n",
        "      <td> 0</td>\n",
        "      <td> 0</td>\n",
        "      <td> 0</td>\n",
        "      <td> 0</td>\n",
        "      <td> 0</td>\n",
        "      <td> 0</td>\n",
        "      <td> 0</td>\n",
        "      <td> 0</td>\n",
        "      <td> 0</td>\n",
        "      <td> 0</td>\n",
        "      <td>...</td>\n",
        "    </tr>\n",
        "    <tr>\n",
        "      <th>3</th>\n",
        "      <td> 1</td>\n",
        "      <td> 0</td>\n",
        "      <td> 0</td>\n",
        "      <td> 0</td>\n",
        "      <td> 0</td>\n",
        "      <td> 1</td>\n",
        "      <td> 0</td>\n",
        "      <td> 0</td>\n",
        "      <td> 0</td>\n",
        "      <td> 0</td>\n",
        "      <td> 0</td>\n",
        "      <td> 0</td>\n",
        "      <td> 0</td>\n",
        "      <td> 0</td>\n",
        "      <td> 0</td>\n",
        "      <td> 0</td>\n",
        "      <td> 0</td>\n",
        "      <td> 0</td>\n",
        "      <td> 0</td>\n",
        "      <td> 0</td>\n",
        "      <td>...</td>\n",
        "    </tr>\n",
        "    <tr>\n",
        "      <th>4</th>\n",
        "      <td> 1</td>\n",
        "      <td> 0</td>\n",
        "      <td> 0</td>\n",
        "      <td> 0</td>\n",
        "      <td> 0</td>\n",
        "      <td> 0</td>\n",
        "      <td> 1</td>\n",
        "      <td> 0</td>\n",
        "      <td> 0</td>\n",
        "      <td> 0</td>\n",
        "      <td> 0</td>\n",
        "      <td> 0</td>\n",
        "      <td> 0</td>\n",
        "      <td> 0</td>\n",
        "      <td> 0</td>\n",
        "      <td> 0</td>\n",
        "      <td> 0</td>\n",
        "      <td> 0</td>\n",
        "      <td> 0</td>\n",
        "      <td> 0</td>\n",
        "      <td>...</td>\n",
        "    </tr>\n",
        "  </tbody>\n",
        "</table>\n",
        "<p>5 rows \u00d7 1078 columns</p>\n",
        "</div>"
       ],
       "metadata": {},
       "output_type": "pyout",
       "prompt_number": 109,
       "text": [
        "   Intercept  Make[T.BUICK]  Make[T.CADILLAC]  Make[T.CHEVROLET]  \\\n",
        "0          1              0                 0                  0   \n",
        "1          1              0                 0                  0   \n",
        "2          1              0                 0                  0   \n",
        "3          1              0                 0                  0   \n",
        "4          1              0                 0                  0   \n",
        "\n",
        "   Make[T.CHRYSLER]  Make[T.DODGE]  Make[T.FORD]  Make[T.GMC]  Make[T.HONDA]  \\\n",
        "0                 0              0             0            0              0   \n",
        "1                 0              1             0            0              0   \n",
        "2                 0              1             0            0              0   \n",
        "3                 0              1             0            0              0   \n",
        "4                 0              0             1            0              0   \n",
        "\n",
        "   Make[T.HUMMER]  Make[T.HYUNDAI]  Make[T.INFINITI]  Make[T.ISUZU]  \\\n",
        "0               0                0                 0              0   \n",
        "1               0                0                 0              0   \n",
        "2               0                0                 0              0   \n",
        "3               0                0                 0              0   \n",
        "4               0                0                 0              0   \n",
        "\n",
        "   Make[T.JEEP]  Make[T.KIA]  Make[T.LEXUS]  Make[T.LINCOLN]  Make[T.MAZDA]  \\\n",
        "0             0            0              0                0              1   \n",
        "1             0            0              0                0              0   \n",
        "2             0            0              0                0              0   \n",
        "3             0            0              0                0              0   \n",
        "4             0            0              0                0              0   \n",
        "\n",
        "   Make[T.MERCURY]  Make[T.MINI]      \n",
        "0                0             0 ...  \n",
        "1                0             0 ...  \n",
        "2                0             0 ...  \n",
        "3                0             0 ...  \n",
        "4                0             0 ...  \n",
        "\n",
        "[5 rows x 1078 columns]"
       ]
      }
     ],
     "prompt_number": 109
    },
    {
     "cell_type": "code",
     "collapsed": false,
     "input": [
      "xxx.shape"
     ],
     "language": "python",
     "metadata": {},
     "outputs": [
      {
       "metadata": {},
       "output_type": "pyout",
       "prompt_number": 110,
       "text": [
        "(61885, 1078)"
       ]
      }
     ],
     "prompt_number": 110
    },
    {
     "cell_type": "markdown",
     "metadata": {},
     "source": [
      "As you can see `patsy.dmatrices` will conveniently give us a model matrix with dummy variables for categorical values that the `fit()` function can easily digest. Yay!"
     ]
    },
    {
     "cell_type": "code",
     "collapsed": false,
     "input": [
      "clf.fit(xxx,np.ravel(yyy))"
     ],
     "language": "python",
     "metadata": {},
     "outputs": [
      {
       "metadata": {},
       "output_type": "pyout",
       "prompt_number": 96,
       "text": [
        "LogisticRegression(C=1.0, class_weight=None, dual=False, fit_intercept=True,\n",
        "          intercept_scaling=1, penalty='l2', random_state=None, tol=0.0001)"
       ]
      }
     ],
     "prompt_number": 96
    },
    {
     "cell_type": "code",
     "collapsed": false,
     "input": [
      "clf.score(xxx,yyy)"
     ],
     "language": "python",
     "metadata": {},
     "outputs": [
      {
       "metadata": {},
       "output_type": "pyout",
       "prompt_number": 97,
       "text": [
        "0.90346610648784031"
       ]
      }
     ],
     "prompt_number": 97
    },
    {
     "cell_type": "markdown",
     "metadata": {},
     "source": [
      "Woo hoo it works a little better! Let's try it on some test data.\n",
      "\n",
      "Train/Test Split\n",
      "---"
     ]
    },
    {
     "cell_type": "code",
     "collapsed": false,
     "input": [
      "#split the data into training and testing sets\n",
      "x_train, x_test, y_train, y_test = train_test_split(xxx,yyy)"
     ],
     "language": "python",
     "metadata": {},
     "outputs": [],
     "prompt_number": 183
    },
    {
     "cell_type": "code",
     "collapsed": false,
     "input": [
      "y_test.shape"
     ],
     "language": "python",
     "metadata": {},
     "outputs": [
      {
       "metadata": {},
       "output_type": "pyout",
       "prompt_number": 187,
       "text": [
        "(15472, 1)"
       ]
      }
     ],
     "prompt_number": 187
    },
    {
     "cell_type": "code",
     "collapsed": false,
     "input": [
      "#fit the logistic regression\n",
      "clf.fit(x_train, np.ravel(y_train))"
     ],
     "language": "python",
     "metadata": {},
     "outputs": [
      {
       "metadata": {},
       "output_type": "pyout",
       "prompt_number": 189,
       "text": [
        "LogisticRegression(C=1.0, class_weight=None, dual=False, fit_intercept=True,\n",
        "          intercept_scaling=1, penalty='l2', random_state=None, tol=0.0001)"
       ]
      }
     ],
     "prompt_number": 189
    },
    {
     "cell_type": "code",
     "collapsed": false,
     "input": [
      "#predict for the test split\n",
      "predictions = clf.predict(x_test)"
     ],
     "language": "python",
     "metadata": {},
     "outputs": [],
     "prompt_number": 190
    },
    {
     "cell_type": "markdown",
     "metadata": {},
     "source": [
      "I can use the `metrics` package to determine the accuracy and get insight as to the issues with my label generation by generating a confusion matrix."
     ]
    },
    {
     "cell_type": "code",
     "collapsed": false,
     "input": [
      "#determine the accuracy score (false positives+false negatives/true positives+true negatives)\n",
      "print metrics.accuracy_score(y_test, predictions)\n",
      "#see the confusion matrix that shows true positives, true negatives, false positives, and false negatives\n",
      "print metrics.confusion_matrix(y_test, predictions)"
     ],
     "language": "python",
     "metadata": {},
     "outputs": [
      {
       "output_type": "stream",
       "stream": "stdout",
       "text": [
        "0.901822647363\n",
        "[[13953     0]\n",
        " [ 1519     0]]\n"
       ]
      }
     ],
     "prompt_number": 195
    },
    {
     "cell_type": "code",
     "collapsed": false,
     "input": [],
     "language": "python",
     "metadata": {},
     "outputs": []
    }
   ],
   "metadata": {}
  }
 ]
}