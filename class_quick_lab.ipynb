{
 "metadata": {
  "name": ""
 },
 "nbformat": 3,
 "nbformat_minor": 0,
 "worksheets": [
  {
   "cells": [
    {
     "cell_type": "code",
     "collapsed": false,
     "input": [
      "import csv\n",
      "import sys"
     ],
     "language": "python",
     "metadata": {},
     "outputs": [],
     "prompt_number": 2
    },
    {
     "cell_type": "code",
     "collapsed": false,
     "input": [
      "def csv_to_list(filename):\n",
      "    output_list = []\n",
      "    with open(filename) as f:\n",
      "        csv_reader = csv.reader(f, delimiter=',')\n",
      "        output_list = [row for row in csv_reader]\n",
      "    return output_list"
     ],
     "language": "python",
     "metadata": {},
     "outputs": [],
     "prompt_number": 18
    },
    {
     "cell_type": "code",
     "collapsed": false,
     "input": [
      "bat_stat = csv_to_list('/Users/johnkabler/gadsdata/baseball/batting.csv')"
     ],
     "language": "python",
     "metadata": {},
     "outputs": [],
     "prompt_number": 19
    },
    {
     "cell_type": "code",
     "collapsed": false,
     "input": [
      "bat_stat[0]"
     ],
     "language": "python",
     "metadata": {},
     "outputs": [
      {
       "metadata": {},
       "output_type": "pyout",
       "prompt_number": 20,
       "text": [
        "['playerID',\n",
        " 'yearID',\n",
        " 'stint',\n",
        " 'teamID',\n",
        " 'lgID',\n",
        " 'G',\n",
        " 'G_batting',\n",
        " 'AB',\n",
        " 'R',\n",
        " 'H',\n",
        " '2B',\n",
        " '3B',\n",
        " 'HR',\n",
        " 'RBI',\n",
        " 'SB',\n",
        " 'CS',\n",
        " 'BB',\n",
        " 'SO',\n",
        " 'IBB',\n",
        " 'HBP',\n",
        " 'SH',\n",
        " 'SF',\n",
        " 'GIDP',\n",
        " 'G_old']"
       ]
      }
     ],
     "prompt_number": 20
    },
    {
     "cell_type": "code",
     "collapsed": false,
     "input": [],
     "language": "python",
     "metadata": {},
     "outputs": []
    }
   ],
   "metadata": {}
  }
 ]
}