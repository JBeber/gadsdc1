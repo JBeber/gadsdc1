{
 "metadata": {
  "name": "Hotel Tweet processing"
 },
 "nbformat": 3,
 "nbformat_minor": 0,
 "worksheets": [
  {
   "cells": [
    {
     "cell_type": "code",
     "collapsed": false,
     "input": "# Collected tweets containing any of the following search terms:\n#HiltonHotels, HiltonHHonors, HiltonWorldwide, Marriott, MarriottIntl, RenHotels, \n# sheratonhotels, spg, ihgrewardsclub, HolidayInn, #TravelBrilliantly, #BeAWeekender, \n#spglife, #RDiscover, #DiscoverIHG, #BigWin\n# Over one week - April 6-13, 62757 tweets were collected\n\n# Following code extracts a few relevant data fields out of the Twitter Streaming API\n\n\nimport pandas\n\nfp = open(\"output_follow_Apr13end.txt\")\ncount = 0\nusers = []\ncreated = []\ntext = []\nretweets = []\nhashtags = []\ntweetid = []\nfavorite = []\n\nfor ii in range(60000):     \n  line = fp.readline()    # each tweet is a line\n  line = eval(line)     # and now each line is a dict\n  if line['lang'] == 'en':   # select only english labeled texts\n    users.append(line['user']['screen_name'])   # and start creating vectors (will dataframe in a bit)\n    created.append(line['created_at'])\n    text.append(line['text'])\n    retweets.append(line['retweet_count'])  \n    \n    tag_list = []                     # hashtags are tricky - there could be many or none\n    for tag in line['entities']['hashtags']:\n      tag_list.append(tag['text'])   \n    hashtags.append(tag_list)\n    \n    tweetid.append(line['id'])\n    favorite.append(line['favorite_count'])\n    count += 1\n    \n# now make the dataframe by creating a dict and then using pandas.DataFrame to convert\ndata = {'id':tweetid, 'user':users, 'text':text, 'hashtags':hashtags, 'created':created, 'retweets':retweets, 'favorites':favorite} \ndataframe = pandas.DataFrame(data)  \n",
     "language": "python",
     "metadata": {},
     "outputs": [],
     "prompt_number": 5
    },
    {
     "cell_type": "code",
     "collapsed": false,
     "input": "len(dataframe)",
     "language": "python",
     "metadata": {},
     "outputs": [
      {
       "metadata": {},
       "output_type": "pyout",
       "prompt_number": 6,
       "text": "29117"
      }
     ],
     "prompt_number": 6
    },
    {
     "cell_type": "code",
     "collapsed": false,
     "input": "# I don't know how to do much yet with dataframes in Python and my attempts to export to R were\n# unsuccessfull. So, I will try this again and create my frequency tables manually with dicts.  \n# Help!\n\nimport collections\n\nfp = open(\"output_follow_Apr13end.txt\")\nuserdict = collections.defaultdict(int)    # defaultdict inserts new keys automatically\nhashdict = collections.defaultdict(int)\n\nfor ii in range(60000):\n  line = fp.readline()\n  line = eval(line)    # convert back to a dict\n  if line['lang'] == 'en':\n    userdict[line['user']['screen_name']] += 1\n    for tag in line['entities']['hashtags']:\n      hashdict[tag['text']] += 1",
     "language": "python",
     "metadata": {},
     "outputs": [],
     "prompt_number": 17
    },
    {
     "cell_type": "code",
     "collapsed": false,
     "input": "len(userdict)",
     "language": "python",
     "metadata": {},
     "outputs": [
      {
       "metadata": {},
       "output_type": "pyout",
       "prompt_number": 20,
       "text": "20096"
      }
     ],
     "prompt_number": 20
    },
    {
     "cell_type": "code",
     "collapsed": false,
     "input": "len(hashdict)",
     "language": "python",
     "metadata": {},
     "outputs": [
      {
       "metadata": {},
       "output_type": "pyout",
       "prompt_number": 26,
       "text": "5367"
      }
     ],
     "prompt_number": 26
    },
    {
     "cell_type": "code",
     "collapsed": false,
     "input": "# Who's tweeting about hotels?\nsorted(userdict.items(), key=lambda t: t[1], reverse = True)[0:15]",
     "language": "python",
     "metadata": {},
     "outputs": [
      {
       "metadata": {},
       "output_type": "pyout",
       "prompt_number": 37,
       "text": "[(u'dreamytravels', 412),\n (u'vegas_visits', 231),\n (u'TravelPointers', 97),\n (u'IHGCare', 83),\n (u'angelo_chirillo', 75),\n (u'ProductPoet', 69),\n (u'OsoulIslamRT', 64),\n (u'topratedhotels', 56),\n (u'TotalTrafficHOU', 53),\n (u'PropertiesReal', 45),\n (u'TXI45thm', 44),\n (u'davidsirota', 41),\n (u'Marriott', 40),\n (u'CarolModaPR', 38),\n (u'MiddleEastJob', 37)]"
      }
     ],
     "prompt_number": 37
    },
    {
     "cell_type": "code",
     "collapsed": false,
     "input": "# Which hashtags are they using?\nsorted(hashdict.items(), key=lambda t: t[1], reverse = True)[0:15]",
     "language": "python",
     "metadata": {},
     "outputs": [
      {
       "metadata": {},
       "output_type": "pyout",
       "prompt_number": 36,
       "text": "[(u'Marriott', 536),\n (u'Job', 432),\n (u'SPG', 380),\n (u'GotMySweatOn', 327),\n (u'VacationVilla', 321),\n (u'Jobs', 293),\n (u'OKTracks', 255),\n (u'ebayipad', 250),\n (u'travel', 249),\n (u'marriott', 239),\n (u'holidayinn', 234),\n (u'INeedThatBreak', 204),\n (u'DestinationWedding', 179),\n (u'traffic', 176),\n (u'TLWTheFalseExpectations', 154)]"
      }
     ],
     "prompt_number": 36
    },
    {
     "cell_type": "code",
     "collapsed": false,
     "input": "",
     "language": "python",
     "metadata": {},
     "outputs": [],
     "prompt_number": 33
    },
    {
     "cell_type": "code",
     "collapsed": false,
     "input": "",
     "language": "python",
     "metadata": {},
     "outputs": []
    }
   ],
   "metadata": {}
  }
 ]
}