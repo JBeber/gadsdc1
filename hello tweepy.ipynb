{
 "metadata": {
  "name": ""
 },
 "nbformat": 3,
 "nbformat_minor": 0,
 "worksheets": [
  {
   "cells": [
    {
     "cell_type": "code",
     "collapsed": false,
     "input": [
      "access_token ='332519007-14KOH3awozGhzIzIFifUWGvFjFCJGFKb3StMYerG'\n",
      "access_token_secret='OT1Wg0tWd1hknwrVKfRICfXqzqlcjDuBTN7mfI4LG6FdE'\n",
      "\n",
      "consumer_key='PiV5iq1uKSCmEBWFaVGn5BmCk'\n",
      "consumer_secret='0CllFq43OqrKsCyL50Z0o0H98O8m3aqM6udUppjAOQFg4Ai67d'\n"
     ],
     "language": "python",
     "metadata": {},
     "outputs": [],
     "prompt_number": 2
    },
    {
     "cell_type": "code",
     "collapsed": false,
     "input": [
      "import tweepy\n",
      "\n",
      "auth = tweepy.OAuthHandler(consumer_key, consumer_secret)\n",
      "auth.set_access_token(access_token, access_token_secret)\n",
      "\n",
      "api = tweepy.API(auth)\n",
      "\n",
      "public_tweets = api.home_timeline()\n",
      "# for tweet in public_tweets:\n",
      "#     print tweet.text"
     ],
     "language": "python",
     "metadata": {},
     "outputs": [],
     "prompt_number": 4
    },
    {
     "cell_type": "code",
     "collapsed": false,
     "input": [
      "public_tweets[0]"
     ],
     "language": "python",
     "metadata": {},
     "outputs": [
      {
       "metadata": {},
       "output_type": "pyout",
       "prompt_number": 5,
       "text": [
        "<tweepy.models.Status at 0x1046925d0>"
       ]
      }
     ],
     "prompt_number": 5
    },
    {
     "cell_type": "code",
     "collapsed": false,
     "input": [
      "public_tweets[0].text"
     ],
     "language": "python",
     "metadata": {},
     "outputs": [
      {
       "metadata": {},
       "output_type": "pyout",
       "prompt_number": 6,
       "text": [
        "u'RT @Hack4CO: Innovators, Project Managers, Hackers, Developers &amp; Designers: Make a difference at #Hack4Colorado2014! Register now: http://t\\u2026'"
       ]
      }
     ],
     "prompt_number": 6
    },
    {
     "cell_type": "code",
     "collapsed": false,
     "input": [],
     "language": "python",
     "metadata": {},
     "outputs": []
    }
   ],
   "metadata": {}
  }
 ]
}